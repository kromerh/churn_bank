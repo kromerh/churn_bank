{
 "cells": [
  {
   "cell_type": "markdown",
   "metadata": {},
   "source": [
    "# Bank customer churn prediction: MVP\n",
    "\n",
    "\n",
    "In this project, the overall goal is to predict the churn of bank customers. From a business perspective, this is very relevant for the effort to retain customers with the ultimate end goal of increasing profitability.\n",
    "\n",
    "Here in this notebook, a minimal viable product (MVP) is set up to investigate some models and generate a baseline to compare further modeling efforts to.\n",
    "\n",
    "Customer churn is defined as the percentage of customers that stopped using a company's product or service offering in a defined time frame. One might consider that customer churn is not so important as long as more new customers are acquired than lost to the company. This is fogetting entirely the cost of acquiring new customers. Bringing in new customers is a lot less profitable than retaining customers. In financial services, for example, a 5% increase in customer retention produces more than a 25% increase in profit (http://www2.bain.com/Images/BB_Prescription_cutting_costs.pdf). The reason for that is because returning customers spend on average more than already existing customers. In online services, a loyal customer spends on average 2/3 more than a new one (http://www2.bain.com/Images/Value_online_customer_loyalty_you_capture.pdf). At the same time there is a cost associated with acquiring new customers, which decreases when less new customers have to be acquired. Keeping existing customers thus allows for a reallocation of funds away from the need of growing by acquiring new customers. \n",
    "\n",
    "Customer churn can be reduced by pooling resources into keeping the most profitable customers, instead of focusing on keeping overall customer numbers (even unprofitable ones). Another option would be to find out why and when customers are leaving, thus targeting in a customer lifetime this specific point and put effort into avoiding churn. In either case, the customer churn has to be thoroughly analyzed, which is what this small example project is designed to deliver.\n",
    "\n",
    "## Outline\n",
    "\n",
    "This churn prediction project follows this outline:\n",
    "\n",
    "1. Dataset description\n",
    "2. Descriptive visualizations using Tableau\n",
    "3. Data extraction, transforming, and loading (ETL)\n",
    "4. **Analysis of the dataset**\n",
    "5. Visualization of the insights\n",
    "\n",
    "In this part of the project, stage 4 is covered. Stages 1 and 2 can be found here: http://heikokromer.com/index.php/2020/01/10/bank-customer-churn-prediction-identifying-the-question/'. \n",
    "\n",
    "\n",
    "Stage 3 can be found here: https://kyso.io/heiko/bank-customer-churn-prediction-etl\n"
   ]
  },
  {
   "cell_type": "code",
   "execution_count": 393,
   "metadata": {},
   "outputs": [],
   "source": [
    "import pandas as pd\n",
    "import numpy as np\n",
    "import matplotlib.pyplot as plt\n",
    "import seaborn as sns\n",
    "from sklearn.model_selection import train_test_split\n",
    "from sklearn.linear_model import LogisticRegression\n",
    "from sklearn.model_selection import GridSearchCV\n",
    "from sklearn.model_selection import learning_curve\n",
    "from sklearn.dummy import DummyClassifier\n",
    "from sklearn.metrics import make_scorer\n",
    "from sklearn.metrics import accuracy_score\n",
    "from sklearn.metrics import accuracy_score, precision_score, recall_score, f1_score\n",
    "from sklearn.metrics import classification_report\n",
    "from sklearn.metrics import roc_curve, auc\n",
    "from sklearn.metrics import precision_recall_curve\n",
    "from sklearn.tree import DecisionTreeClassifier\n",
    "from sklearn.tree import export_graphviz\n",
    "from sklearn.model_selection import RandomizedSearchCV\n",
    "from sklearn.ensemble import RandomForestClassifier\n",
    "from sklearn.neighbors import KNeighborsClassifier"
   ]
  },
  {
   "cell_type": "code",
   "execution_count": 383,
   "metadata": {},
   "outputs": [],
   "source": [
    "class Model():\n",
    "    \"\"\" Class for the Analysis part that contains all the methods\"\"\"\n",
    "    def __init__(self):\n",
    "        self.save_path_prepared = '../02.Prepared_data/'\n",
    "        \n",
    "    def load_data(self, fname):\n",
    "        \"\"\"\n",
    "        Reads and returns the dataset after the ETL process.\n",
    "        \"\"\"\n",
    "        data = pd.read_csv(f\"{self.save_path_prepared}/{fname}\", index_col=0)\n",
    "        \n",
    "        return data\n",
    "    \n",
    "    def select_features(self, features, label_col, dataset):\n",
    "        \"\"\"\n",
    "        Selects the columns features (passed as list) from the dataset and returns this dataset. Returns also the labels, \n",
    "        the label_col must be passed.\n",
    "        \"\"\"\n",
    "        data_features = dataset[features]\n",
    "        data_labels = dataset[label_col]\n",
    "\n",
    "        return data_features, data_labels    \n",
    "    \n",
    "    def split_dataset(self, fraction_test, fraction_train, fraction_cv, random_state, X, y):\n",
    "        \"\"\"\n",
    "        Splits the dataset into training, cv, and test set given the fractions.\n",
    "        \"\"\"\n",
    "        if fraction_cv > 0:\n",
    "            # first split training and (test+cv)\n",
    "            X_train, X_test_cv, y_train, y_test_cv = train_test_split(X, y, test_size=fraction_test+fraction_cv, random_state=random_state)\n",
    "\n",
    "            # second split into test and cv\n",
    "            fraction_test_rel = fraction_cv/(fraction_cv+fraction_test)\n",
    "            X_test, X_cv, y_test, y_cv = train_test_split(X_test_cv, y_test_cv, test_size=fraction_test_rel, random_state=random_state)\n",
    "        else:\n",
    "            # split first between train and (cv + test)\n",
    "            X_train, X_test, y_train, y_test = train_test_split(X, y, test_size=fraction_test, random_state=random_state)\n",
    "            X_cv = np.empty([1,1])\n",
    "            y_cv = np.empty([1,1])\n",
    "\n",
    "        return X_train, X_test, y_train, y_test, X_cv, y_cv\n",
    "\n",
    "    def MVP_LogisticRegression_GridSearch(self, X_train, y_train, X_test, y_test, grid_search_figure=False):\n",
    "        print('GridSearchCV with LogisticRegression using score roc_auc and accuracy')\n",
    "        scoring = {'AUC': 'roc_auc', 'Accuracy': make_scorer(accuracy_score)}\n",
    "        grid = { \"C\":np.logspace(-3,3,10), \"penalty\":[\"l1\", \"l2\"]}# l1 lasso l2 ridge\n",
    "        lr = LogisticRegression(solver='liblinear')\n",
    "        lr_cv = GridSearchCV(lr, grid, cv=10, scoring=scoring, refit='Accuracy', return_train_score=True)\n",
    "        lr_cv.fit(X_train, y_train)\n",
    "        results = lr_cv.cv_results_\n",
    "        print(\"Tuned hpyerparameters :(best parameters) \", lr_cv.best_params_)\n",
    "        print(\"Best score (refit key) :\", lr_cv.best_score_)\n",
    "        lr_optimized = lr_cv.best_estimator_\n",
    "\n",
    "        if grid_search_figure == True:\n",
    "            plt.figure(figsize=(8, 6))\n",
    "            plt.title(\"GridSearchCV evaluating using multiple scorers simultaneously\",\n",
    "                      fontsize=16)\n",
    "\n",
    "            plt.xlabel(\"C\")\n",
    "            plt.ylabel(\"Score\")\n",
    "\n",
    "            ax = plt.gca()\n",
    "            # ax.set_xlim(0, 1000)\n",
    "            ax.set_ylim(0.5, 1)\n",
    "\n",
    "            # Get the regular numpy array from the MaskedArray\n",
    "            X_axis = np.array(results['param_C'].data, dtype=float)\n",
    "\n",
    "            for scorer, color in zip(sorted(scoring), ['g', 'k']):\n",
    "                for sample, style in (('train', '--'), ('test', '-')):\n",
    "                    sample_score_mean = results['mean_%s_%s' % (sample, scorer)]\n",
    "                    sample_score_std = results['std_%s_%s' % (sample, scorer)]\n",
    "                    ax.fill_between(X_axis, sample_score_mean - sample_score_std,\n",
    "                                    sample_score_mean + sample_score_std,\n",
    "                                    alpha=0.1 if sample == 'test' else 0, color=color)\n",
    "                    ax.plot(X_axis, sample_score_mean, style, color=color,\n",
    "                            alpha=1 if sample == 'test' else 0.7,\n",
    "                            label=\"%s (%s)\" % (scorer, sample))\n",
    "\n",
    "                best_index = np.nonzero(results['rank_test_%s' % scorer] == 1)[0][0]\n",
    "                best_score = results['mean_test_%s' % scorer][best_index]\n",
    "\n",
    "                # Plot a dotted vertical line at the best score for that scorer marked by x\n",
    "                ax.plot([X_axis[best_index], ] * 2, [0, best_score],\n",
    "                        linestyle='-.', color=color, marker='x', markeredgewidth=3, ms=8)\n",
    "\n",
    "                # Annotate the best score for that scorer\n",
    "                ax.annotate(\"%0.2f\" % best_score,\n",
    "                            (X_axis[best_index], best_score + 0.005))\n",
    "            plt.xscale('log')\n",
    "            plt.legend(loc=\"best\")\n",
    "            plt.grid(False)\n",
    "            plt.show()\n",
    "            \n",
    "        return lr_optimized\n",
    "    \n"
   ]
  },
  {
   "cell_type": "code",
   "execution_count": 371,
   "metadata": {},
   "outputs": [],
   "source": [
    "class Model_Plots():\n",
    "    \n",
    "    \n",
    "    def plot_roc_curve(self, X_train, y_train, X_test, y_test, scores):\n",
    "\n",
    "        fpr_lr, tpr_lr, _ = roc_curve(y_test, scores)\n",
    "        roc_auc_lr = auc(fpr_lr, tpr_lr)\n",
    "\n",
    "        fig, ax = plt.subplots(figsize=(8, 6))\n",
    "        plt.xlim([-0.01, 1.00])\n",
    "        plt.ylim([-0.01, 1.01])\n",
    "        plt.plot(fpr_lr, tpr_lr, lw=3, label='ROC curve (area = {:0.2f})'.format(roc_auc_lr))\n",
    "        plt.xlabel('False Positive Rate', fontsize=16)\n",
    "        plt.ylabel('True Positive Rate', fontsize=16)\n",
    "        plt.title('ROC curve', fontsize=16)\n",
    "        plt.legend(loc='lower right', fontsize=13)\n",
    "        plt.plot([0, 1], [0, 1], color='navy', lw=3, linestyle='--')\n",
    "        ax.set_aspect('equal')\n",
    "        plt.show()\n",
    "        \n",
    "        return None\n",
    "        \n",
    "    def plot_prec_rec_curve(self, X_train, y_train, X_test, y_test, scores):\n",
    "\n",
    "        precision, recall, thresholds = precision_recall_curve(y_test, scores)\n",
    "        closest_zero = np.argmin(np.abs(thresholds))\n",
    "        closest_zero_p = precision[closest_zero]\n",
    "        closest_zero_r = recall[closest_zero]\n",
    "\n",
    "        fig, ax = plt.subplots(figsize=(8, 6))\n",
    "        plt.xlim([0.0, 1.01])\n",
    "        plt.ylim([0.0, 1.01])\n",
    "        plt.plot(precision, recall, label='Precision-Recall Curve')\n",
    "        plt.plot(closest_zero_p, closest_zero_r, 'o', markersize = 12, fillstyle = 'none', c='r', mew=3)\n",
    "        plt.xlabel('Precision', fontsize=16)\n",
    "        plt.ylabel('Recall', fontsize=16)\n",
    "        ax.set_aspect('equal')\n",
    "        plt.show()\n",
    "        \n",
    "        return None\n",
    "    \n",
    "    def visualize_decision_tree(self, estimator, outpath='../05.Insights/'):\n",
    "        \"\"\"\n",
    "        Produces a png file of a decision tree at location outpath.\n",
    "        \"\"\"\n",
    "        export_graphviz(estimator, out_file='tree.dot', \n",
    "                        feature_names = X_train.columns,\n",
    "                        class_names = ['Stayed', 'Exited'],\n",
    "                        rounded = True, proportion = False, \n",
    "                        precision = 2, filled = True)\n",
    "        # Convert to png using system command (requires Graphviz)\n",
    "        from subprocess import call\n",
    "        call(['dot', '-Tpng', 'tree.dot', '-o', f'{outpath}tree.png', '-Gdpi=600'])\n",
    "\n",
    "        print(f\"Exported decision tree to {outpath}tree.png\")\n",
    "        \n",
    "        return None\n",
    "        "
   ]
  },
  {
   "cell_type": "markdown",
   "metadata": {},
   "source": [
    "## 1. Load the dataset after the ETL, select features for MVP\n",
    "\n",
    "Load the dataset and do some testing by selecting all possible features to create some quick model."
   ]
  },
  {
   "cell_type": "code",
   "execution_count": 307,
   "metadata": {},
   "outputs": [],
   "source": [
    "FNAME = '2020-01-26.One_hot_encoded.csv'\n",
    "data = Model().load_data(FNAME)"
   ]
  },
  {
   "cell_type": "code",
   "execution_count": 308,
   "metadata": {},
   "outputs": [
    {
     "data": {
      "text/html": [
       "<div>\n",
       "<style scoped>\n",
       "    .dataframe tbody tr th:only-of-type {\n",
       "        vertical-align: middle;\n",
       "    }\n",
       "\n",
       "    .dataframe tbody tr th {\n",
       "        vertical-align: top;\n",
       "    }\n",
       "\n",
       "    .dataframe thead th {\n",
       "        text-align: right;\n",
       "    }\n",
       "</style>\n",
       "<table border=\"1\" class=\"dataframe\">\n",
       "  <thead>\n",
       "    <tr style=\"text-align: right;\">\n",
       "      <th></th>\n",
       "      <th>RowNumber</th>\n",
       "      <th>CustomerId</th>\n",
       "      <th>Surname</th>\n",
       "      <th>CreditScore</th>\n",
       "      <th>Age</th>\n",
       "      <th>Tenure</th>\n",
       "      <th>Balance</th>\n",
       "      <th>NumOfProducts</th>\n",
       "      <th>HasCrCard</th>\n",
       "      <th>IsActiveMember</th>\n",
       "      <th>EstimatedSalary</th>\n",
       "      <th>Exited</th>\n",
       "      <th>Gender_Female</th>\n",
       "      <th>Gender_Male</th>\n",
       "      <th>Geography_France</th>\n",
       "      <th>Geography_Germany</th>\n",
       "      <th>Geography_Spain</th>\n",
       "    </tr>\n",
       "  </thead>\n",
       "  <tbody>\n",
       "    <tr>\n",
       "      <td>0</td>\n",
       "      <td>1</td>\n",
       "      <td>15634602</td>\n",
       "      <td>Hargrave</td>\n",
       "      <td>619</td>\n",
       "      <td>42</td>\n",
       "      <td>2</td>\n",
       "      <td>0.00</td>\n",
       "      <td>1</td>\n",
       "      <td>1</td>\n",
       "      <td>1</td>\n",
       "      <td>101348.88</td>\n",
       "      <td>1</td>\n",
       "      <td>1</td>\n",
       "      <td>0</td>\n",
       "      <td>1</td>\n",
       "      <td>0</td>\n",
       "      <td>0</td>\n",
       "    </tr>\n",
       "    <tr>\n",
       "      <td>1</td>\n",
       "      <td>2</td>\n",
       "      <td>15647311</td>\n",
       "      <td>Hill</td>\n",
       "      <td>608</td>\n",
       "      <td>41</td>\n",
       "      <td>1</td>\n",
       "      <td>83807.86</td>\n",
       "      <td>1</td>\n",
       "      <td>0</td>\n",
       "      <td>1</td>\n",
       "      <td>112542.58</td>\n",
       "      <td>0</td>\n",
       "      <td>1</td>\n",
       "      <td>0</td>\n",
       "      <td>0</td>\n",
       "      <td>0</td>\n",
       "      <td>1</td>\n",
       "    </tr>\n",
       "    <tr>\n",
       "      <td>2</td>\n",
       "      <td>3</td>\n",
       "      <td>15619304</td>\n",
       "      <td>Onio</td>\n",
       "      <td>502</td>\n",
       "      <td>42</td>\n",
       "      <td>8</td>\n",
       "      <td>159660.80</td>\n",
       "      <td>3</td>\n",
       "      <td>1</td>\n",
       "      <td>0</td>\n",
       "      <td>113931.57</td>\n",
       "      <td>1</td>\n",
       "      <td>1</td>\n",
       "      <td>0</td>\n",
       "      <td>1</td>\n",
       "      <td>0</td>\n",
       "      <td>0</td>\n",
       "    </tr>\n",
       "    <tr>\n",
       "      <td>3</td>\n",
       "      <td>4</td>\n",
       "      <td>15701354</td>\n",
       "      <td>Boni</td>\n",
       "      <td>699</td>\n",
       "      <td>39</td>\n",
       "      <td>1</td>\n",
       "      <td>0.00</td>\n",
       "      <td>2</td>\n",
       "      <td>0</td>\n",
       "      <td>0</td>\n",
       "      <td>93826.63</td>\n",
       "      <td>0</td>\n",
       "      <td>1</td>\n",
       "      <td>0</td>\n",
       "      <td>1</td>\n",
       "      <td>0</td>\n",
       "      <td>0</td>\n",
       "    </tr>\n",
       "    <tr>\n",
       "      <td>4</td>\n",
       "      <td>5</td>\n",
       "      <td>15737888</td>\n",
       "      <td>Mitchell</td>\n",
       "      <td>850</td>\n",
       "      <td>43</td>\n",
       "      <td>2</td>\n",
       "      <td>125510.82</td>\n",
       "      <td>1</td>\n",
       "      <td>1</td>\n",
       "      <td>1</td>\n",
       "      <td>79084.10</td>\n",
       "      <td>0</td>\n",
       "      <td>1</td>\n",
       "      <td>0</td>\n",
       "      <td>0</td>\n",
       "      <td>0</td>\n",
       "      <td>1</td>\n",
       "    </tr>\n",
       "  </tbody>\n",
       "</table>\n",
       "</div>"
      ],
      "text/plain": [
       "   RowNumber  CustomerId   Surname  CreditScore  Age  Tenure    Balance  \\\n",
       "0          1    15634602  Hargrave          619   42       2       0.00   \n",
       "1          2    15647311      Hill          608   41       1   83807.86   \n",
       "2          3    15619304      Onio          502   42       8  159660.80   \n",
       "3          4    15701354      Boni          699   39       1       0.00   \n",
       "4          5    15737888  Mitchell          850   43       2  125510.82   \n",
       "\n",
       "   NumOfProducts  HasCrCard  IsActiveMember  EstimatedSalary  Exited  \\\n",
       "0              1          1               1        101348.88       1   \n",
       "1              1          0               1        112542.58       0   \n",
       "2              3          1               0        113931.57       1   \n",
       "3              2          0               0         93826.63       0   \n",
       "4              1          1               1         79084.10       0   \n",
       "\n",
       "   Gender_Female  Gender_Male  Geography_France  Geography_Germany  \\\n",
       "0              1            0                 1                  0   \n",
       "1              1            0                 0                  0   \n",
       "2              1            0                 1                  0   \n",
       "3              1            0                 1                  0   \n",
       "4              1            0                 0                  0   \n",
       "\n",
       "   Geography_Spain  \n",
       "0                0  \n",
       "1                1  \n",
       "2                0  \n",
       "3                0  \n",
       "4                1  "
      ]
     },
     "execution_count": 308,
     "metadata": {},
     "output_type": "execute_result"
    }
   ],
   "source": [
    "data.head()"
   ]
  },
  {
   "cell_type": "code",
   "execution_count": 309,
   "metadata": {},
   "outputs": [],
   "source": [
    "# Previous analysis found that something was wrong with EstimatedSalary\n",
    "# There are only two genders in this dataset, one column can be removed\n",
    "features = ['CreditScore',\n",
    " 'Age',\n",
    " 'Tenure',\n",
    " 'Balance',\n",
    " 'NumOfProducts',\n",
    " 'HasCrCard',\n",
    " 'IsActiveMember',\n",
    "#  'EstimatedSalary',\n",
    " 'Gender_Female',\n",
    "#  'Gender_Male',\n",
    " 'Geography_France',\n",
    " 'Geography_Germany',\n",
    " 'Geography_Spain']\n",
    "\n",
    "label_col = 'Exited'"
   ]
  },
  {
   "cell_type": "code",
   "execution_count": 310,
   "metadata": {},
   "outputs": [
    {
     "data": {
      "text/html": [
       "<div>\n",
       "<style scoped>\n",
       "    .dataframe tbody tr th:only-of-type {\n",
       "        vertical-align: middle;\n",
       "    }\n",
       "\n",
       "    .dataframe tbody tr th {\n",
       "        vertical-align: top;\n",
       "    }\n",
       "\n",
       "    .dataframe thead th {\n",
       "        text-align: right;\n",
       "    }\n",
       "</style>\n",
       "<table border=\"1\" class=\"dataframe\">\n",
       "  <thead>\n",
       "    <tr style=\"text-align: right;\">\n",
       "      <th></th>\n",
       "      <th>CreditScore</th>\n",
       "      <th>Age</th>\n",
       "      <th>Tenure</th>\n",
       "      <th>Balance</th>\n",
       "      <th>NumOfProducts</th>\n",
       "      <th>HasCrCard</th>\n",
       "      <th>IsActiveMember</th>\n",
       "      <th>Gender_Female</th>\n",
       "      <th>Geography_France</th>\n",
       "      <th>Geography_Germany</th>\n",
       "      <th>Geography_Spain</th>\n",
       "    </tr>\n",
       "  </thead>\n",
       "  <tbody>\n",
       "    <tr>\n",
       "      <td>0</td>\n",
       "      <td>619</td>\n",
       "      <td>42</td>\n",
       "      <td>2</td>\n",
       "      <td>0.00</td>\n",
       "      <td>1</td>\n",
       "      <td>1</td>\n",
       "      <td>1</td>\n",
       "      <td>1</td>\n",
       "      <td>1</td>\n",
       "      <td>0</td>\n",
       "      <td>0</td>\n",
       "    </tr>\n",
       "    <tr>\n",
       "      <td>1</td>\n",
       "      <td>608</td>\n",
       "      <td>41</td>\n",
       "      <td>1</td>\n",
       "      <td>83807.86</td>\n",
       "      <td>1</td>\n",
       "      <td>0</td>\n",
       "      <td>1</td>\n",
       "      <td>1</td>\n",
       "      <td>0</td>\n",
       "      <td>0</td>\n",
       "      <td>1</td>\n",
       "    </tr>\n",
       "    <tr>\n",
       "      <td>2</td>\n",
       "      <td>502</td>\n",
       "      <td>42</td>\n",
       "      <td>8</td>\n",
       "      <td>159660.80</td>\n",
       "      <td>3</td>\n",
       "      <td>1</td>\n",
       "      <td>0</td>\n",
       "      <td>1</td>\n",
       "      <td>1</td>\n",
       "      <td>0</td>\n",
       "      <td>0</td>\n",
       "    </tr>\n",
       "    <tr>\n",
       "      <td>3</td>\n",
       "      <td>699</td>\n",
       "      <td>39</td>\n",
       "      <td>1</td>\n",
       "      <td>0.00</td>\n",
       "      <td>2</td>\n",
       "      <td>0</td>\n",
       "      <td>0</td>\n",
       "      <td>1</td>\n",
       "      <td>1</td>\n",
       "      <td>0</td>\n",
       "      <td>0</td>\n",
       "    </tr>\n",
       "    <tr>\n",
       "      <td>4</td>\n",
       "      <td>850</td>\n",
       "      <td>43</td>\n",
       "      <td>2</td>\n",
       "      <td>125510.82</td>\n",
       "      <td>1</td>\n",
       "      <td>1</td>\n",
       "      <td>1</td>\n",
       "      <td>1</td>\n",
       "      <td>0</td>\n",
       "      <td>0</td>\n",
       "      <td>1</td>\n",
       "    </tr>\n",
       "  </tbody>\n",
       "</table>\n",
       "</div>"
      ],
      "text/plain": [
       "   CreditScore  Age  Tenure    Balance  NumOfProducts  HasCrCard  \\\n",
       "0          619   42       2       0.00              1          1   \n",
       "1          608   41       1   83807.86              1          0   \n",
       "2          502   42       8  159660.80              3          1   \n",
       "3          699   39       1       0.00              2          0   \n",
       "4          850   43       2  125510.82              1          1   \n",
       "\n",
       "   IsActiveMember  Gender_Female  Geography_France  Geography_Germany  \\\n",
       "0               1              1                 1                  0   \n",
       "1               1              1                 0                  0   \n",
       "2               0              1                 1                  0   \n",
       "3               0              1                 1                  0   \n",
       "4               1              1                 0                  0   \n",
       "\n",
       "   Geography_Spain  \n",
       "0                0  \n",
       "1                1  \n",
       "2                0  \n",
       "3                0  \n",
       "4                1  "
      ]
     },
     "execution_count": 310,
     "metadata": {},
     "output_type": "execute_result"
    }
   ],
   "source": [
    "X, y = Model().select_features(features, label_col, data)\n",
    "\n",
    "X.head()"
   ]
  },
  {
   "cell_type": "markdown",
   "metadata": {},
   "source": [
    "## 2. Split in training, cross validation, and test set: 60%, 40% \n",
    "\n",
    "Since there in only one dataset, the dataset has to be split in training, cross validation, and test set.\n"
   ]
  },
  {
   "cell_type": "code",
   "execution_count": 311,
   "metadata": {},
   "outputs": [
    {
     "name": "stdout",
     "output_type": "stream",
     "text": [
      "Training set size (X, y): ((6000, 11), (6000,))\n",
      "Test set size (X, y): ((2000, 11), (2000,))\n",
      "CV set size (X, y): ((2000, 11), (2000,))\n"
     ]
    }
   ],
   "source": [
    "fraction_train = 0.6\n",
    "fraction_test = 0.2\n",
    "fraction_cv = 1-fraction_train-fraction_test\n",
    "random_state = 42\n",
    "\n",
    "\n",
    "X_train, X_test, y_train, y_test, X_cv, y_cv = Model().split_dataset(fraction_test, fraction_train, fraction_cv, random_state, X, y)\n",
    "\n",
    "print(f\"Training set size (X, y): {X_train.shape, y_train.shape}\")\n",
    "print(f\"Test set size (X, y): {X_test.shape, y_test.shape}\")\n",
    "print(f\"CV set size (X, y): {X_cv.shape, y_cv.shape}\")\n",
    "\n",
    "# QA on number of cols\n",
    "assert X_train.shape[1] == X_test.shape[1]\n",
    "if fraction_cv > 0:\n",
    "    assert X_cv.shape[1] == X_test.shape[1]\n",
    "# QA on number of rows total\n",
    "if fraction_cv > 0:\n",
    "    assert X_train.shape[0] + X_test.shape[0] + X_cv.shape[0] == X.shape[0]\n",
    "else:\n",
    "    assert X_train.shape[0] + X_test.shape[0] == X.shape[0]\n"
   ]
  },
  {
   "cell_type": "code",
   "execution_count": 312,
   "metadata": {},
   "outputs": [
    {
     "name": "stdout",
     "output_type": "stream",
     "text": [
      "Training set size (X, y): ((6000, 11), (6000,))\n",
      "Test set size (X, y): ((4000, 11), (4000,))\n"
     ]
    }
   ],
   "source": [
    "fraction_train = 0.6\n",
    "fraction_test = 0.4\n",
    "random_state = 42\n",
    "\n",
    "X_train, X_test, y_train, y_test = train_test_split(X, y, test_size=fraction_test, random_state=random_state)\n",
    "\n",
    "print(f\"Training set size (X, y): {X_train.shape, y_train.shape}\")\n",
    "print(f\"Test set size (X, y): {X_test.shape, y_test.shape}\")\n",
    "\n",
    "# QA on number of cols\n",
    "assert X_train.shape[1] == X_test.shape[1]\n",
    "\n",
    "# QA on number of rows total\n",
    "assert X_train.shape[0] + X_test.shape[0] == X.shape[0]\n"
   ]
  },
  {
   "cell_type": "markdown",
   "metadata": {},
   "source": [
    "It is also important to check if the ratio of labels is the same in this training and test set. This is the case."
   ]
  },
  {
   "cell_type": "code",
   "execution_count": 313,
   "metadata": {},
   "outputs": [
    {
     "name": "stdout",
     "output_type": "stream",
     "text": [
      "0    0.7955\n",
      "1    0.2045\n",
      "Name: Exited, dtype: float64\n",
      "0    0.7975\n",
      "1    0.2025\n",
      "Name: Exited, dtype: float64\n"
     ]
    }
   ],
   "source": [
    "print(y_train.value_counts(normalize=True)) \n",
    "print(y_test.value_counts(normalize=True))"
   ]
  },
  {
   "cell_type": "markdown",
   "metadata": {},
   "source": [
    "## 3. MVP Model selection\n",
    "\n",
    "First, a minimal viable product (MVP) is fit to the dataset. As this is a classification problem, a LogisticRegression, DecisionTree, K-NN, and Naive-Bayes will be fit to the dataset. "
   ]
  },
  {
   "cell_type": "markdown",
   "metadata": {},
   "source": [
    "### 3.1 Dummy Classifier\n",
    "\n",
    "DummyClassifier is a classifier that makes predictions using simple rules, which can be useful as a baseline (also called null accuracy baseline) for comparison against actual classifiers, especially with imbalanced classes. In this present case, there is a slight bias to the negative class (`Exited = 0`, 20% of all data points are labelled negative)."
   ]
  },
  {
   "cell_type": "code",
   "execution_count": 314,
   "metadata": {},
   "outputs": [
    {
     "name": "stdout",
     "output_type": "stream",
     "text": [
      "Dummy classifier:\n",
      "Training set accuracy: 0.80\n",
      "Test set accuracy: 0.80\n"
     ]
    }
   ],
   "source": [
    "dummy_majority = DummyClassifier(strategy='most_frequent').fit(X_train, y_train)\n",
    "\n",
    "# Negative class (0) is most frequent; the dummy 'most_frequent' classifier always predicts class 0\n",
    "\n",
    "print('Dummy classifier:')\n",
    "print('Training set accuracy: {:.2f}'.format(accuracy_score(y_train, dummy_majority.predict(X_train))))\n",
    "print('Test set accuracy: {:.2f}'.format(accuracy_score(y_test, dummy_majority.predict(X_test))))"
   ]
  },
  {
   "cell_type": "markdown",
   "metadata": {},
   "source": [
    "### 3.1. LogisticRegression\n",
    "\n",
    "LogisticRegression can fit very complex decision boundaries to the dataset. It is a very useful model for a binary dependent variable, which is the case in this project (`Exited` is either 1 or 0). For LogisticRegression to perform well, there should be no high multicollinearity between the features (predictors). "
   ]
  },
  {
   "cell_type": "markdown",
   "metadata": {},
   "source": [
    "#### Multicollinearity test\n",
    "\n",
    "To assess multicollinearity - one feature can be linearly predicted from the other features with some substantial degree of accuracy - one can check the correlation matrix of the features. This is done in the form of a heatmap, a good rule of thumb is that the correlation coefficient among the variables is less than 0.9 that condition is met. In the below heatmap it is evident that this criteria is met except for the dummy features which is not surprising as one excludes the other."
   ]
  },
  {
   "cell_type": "code",
   "execution_count": 315,
   "metadata": {},
   "outputs": [
    {
     "data": {
      "image/png": "[encoded data removed]",
      "text/plain": [
       "<Figure size 720x576 with 2 Axes>"
      ]
     },
     "metadata": {},
     "output_type": "display_data"
    }
   ],
   "source": [
    "f, ax = plt.subplots(figsize=(10, 8))\n",
    "plt.title('Correlation matrix between features')\n",
    "corr = X.corr()\n",
    "sns.heatmap(corr, mask=np.zeros_like(corr, dtype=np.bool), cmap=sns.diverging_palette(220, 10, as_cmap=True),\n",
    "            square=True, ax=ax)\n",
    "plt.show()"
   ]
  },
  {
   "cell_type": "markdown",
   "metadata": {},
   "source": [
    "#### GridSearchCV\n",
    "\n",
    "GridSearch allows to quickly tune the parameters of a model. In the case of the LogisticRegression classifier, this will include here the `C` parameter and the `penalty`.\n",
    "\n",
    "\n",
    "- `C`: this parameter regulates the strength of the regularization. Regularization is used in LogisticRegression to penalize large weights and reduce overfitting. Decreasing the parameter `C` increases regularization (typically the parameter `lambda`) and can help to fix a high variance model.\n",
    "- `penalty`: typically the `l1` (Lasso Regression) or the `l2` (Ridge Regression) regularization method is used with LogisticRegression. In the case of the Ridge Regression, the cost function that the algorithm (i.e. Gradient Descent) is trying to optimize is adjusted by adding a regularization term that penalizes the squared values of the weights. In Lasso Regression, the regularization term penalizes using the absolute values of the weight coefficients. Most notable difference between the two choices is that Lasso Regression shrinks less important features weights to zero which does remove some features all together.\n",
    "\n",
    "For the scoring in the GridSearchCV, the AUC-ROC curve will be used that is very useful for assessing the performance of a classification model's performance. AUC refers to Area Under The Curve and ROC to Receiver Operating Characteristic. The AUC-ROC curve informs how much the model is able to distinguish between the classes. It does so by comparing the true positive rate and false positive rate for different decision boundaries (thresholds for predicting either of the classes):\n",
    "\n",
    "- True positive rate (Recall) = $\\frac{\\textrm{True positives}}{\\textrm{True positives}\\ +\\ \\textrm{False negatives}}$\n",
    "- False positive rate (Recall) = $\\frac{\\textrm{False positives}}{\\textrm{True negatives}\\ +\\ \\textrm{False positives}}$"
   ]
  },
  {
   "cell_type": "code",
   "execution_count": 316,
   "metadata": {},
   "outputs": [
    {
     "name": "stdout",
     "output_type": "stream",
     "text": [
      "GridSearchCV with LogisticRegression using score roc_auc and accuracy\n",
      "Tuned hpyerparameters :(best parameters)  {'C': 215.44346900318823, 'penalty': 'l1'}\n",
      "Best score (refit key) : 0.8125\n"
     ]
    },
    {
     "data": {
      "image/png": "[encoded data removed]",
      "text/plain": [
       "<Figure size 576x432 with 1 Axes>"
      ]
     },
     "metadata": {},
     "output_type": "display_data"
    }
   ],
   "source": [
    "grid_search_figure=True\n",
    "lr_optimized = Model().MVP_LogisticRegression(X_train, y_train, X_test, y_test, grid_search_figure)"
   ]
  },
  {
   "cell_type": "code",
   "execution_count": 349,
   "metadata": {},
   "outputs": [
    {
     "data": {
      "image/png": "[encoded data removed]",
      "text/plain": [
       "<Figure size 576x432 with 1 Axes>"
      ]
     },
     "metadata": {},
     "output_type": "display_data"
    }
   ],
   "source": [
    "scores = lr_optimized.fit(X_train, y_train).decision_function(X_test)\n",
    "Model_Plots().plot_roc_curve(X_train, y_train, X_test, y_test, scores)"
   ]
  },
  {
   "cell_type": "code",
   "execution_count": 350,
   "metadata": {},
   "outputs": [
    {
     "data": {
      "image/png": "[encoded data removed]",
      "text/plain": [
       "<Figure size 576x432 with 1 Axes>"
      ]
     },
     "metadata": {},
     "output_type": "display_data"
    }
   ],
   "source": [
    "scores = lr_optimized.fit(X_train, y_train).decision_function(X_test)\n",
    "Model_Plots().plot_prec_rec_curve(X_train, y_train, X_test, y_test, scores)"
   ]
  },
  {
   "cell_type": "code",
   "execution_count": 321,
   "metadata": {},
   "outputs": [
    {
     "name": "stdout",
     "output_type": "stream",
     "text": [
      "              precision    recall  f1-score   support\n",
      "\n",
      "      Stayed       0.83      0.96      0.89      3190\n",
      "      Exited       0.57      0.21      0.31       810\n",
      "\n",
      "    accuracy                           0.81      4000\n",
      "   macro avg       0.70      0.58      0.60      4000\n",
      "weighted avg       0.77      0.81      0.77      4000\n",
      "\n"
     ]
    }
   ],
   "source": [
    "lr_predicted_test = lr_optimized.predict(X_test)\n",
    "# Combined report with all above metrics\n",
    "print(classification_report(y_test, lr_predicted_test, target_names=['Stayed', 'Exited']))"
   ]
  },
  {
   "cell_type": "markdown",
   "metadata": {},
   "source": [
    "It is evident from the plots that this LogisticRegression model performs poorly as it is not better than the dummy model."
   ]
  },
  {
   "cell_type": "markdown",
   "metadata": {},
   "source": [
    "### 3.2 DecisionTree\n",
    "\n",
    "DecisionTrees work like flow charts, where a series of yes/no questions are answered. RandomForests are extensions of DecisionTrees by making predictions using an ensemble of trees and taking the average of the tree. That way, they make use of the power of the crowd. Individual trees are created from a different subset (that can be overlapping but is not identical to any other subset) of the dataset. \n",
    "\n"
   ]
  },
  {
   "cell_type": "markdown",
   "metadata": {},
   "source": [
    "#### Randomized Search and Grid Search\n",
    "\n",
    "Grid Search is an exhaustive search for selecting a model. In Grid Search, a grid of hyperparameter values is set up and for each combination, a model is trained and scored on the test data. In this approach, every combination of hyperparameter values is tried which can be very inefficient. For example, searching 20 different parameter values for each of 4 parameters will require 160,000 trials of cross-validation. This equates to 1,600,000 model fits and 1,600,000 predictions if 10-fold cross validation is used. While Scikit Learn offers the GridSearchCV function to simplify the process, it would be an extremely costly execution both in computing power and time.\n",
    "\n",
    "\n",
    "By contrast, Random Search sets up a grid of hyperparameter values and selects random combinations to train the model and score. This allows to explicitly control the number of parameter combinations that are attempted. The number of search iterations is set based on time or resources. Scikit Learn offers the RandomizedSearchCV function for this process."
   ]
  },
  {
   "cell_type": "markdown",
   "metadata": {},
   "source": [
    "#### Randomized Search on DecisionTreeClassifier\n"
   ]
  },
  {
   "cell_type": "code",
   "execution_count": 385,
   "metadata": {},
   "outputs": [
    {
     "name": "stdout",
     "output_type": "stream",
     "text": [
      "Fitting 10 folds for each of 100 candidates, totalling 1000 fits\n"
     ]
    },
    {
     "name": "stderr",
     "output_type": "stream",
     "text": [
      "[Parallel(n_jobs=-1)]: Using backend LokyBackend with 12 concurrent workers.\n",
      "[Parallel(n_jobs=-1)]: Done  17 tasks      | elapsed:    0.1s\n"
     ]
    },
    {
     "name": "stdout",
     "output_type": "stream",
     "text": [
      "Best parameters from RandomizedSearch:\n"
     ]
    },
    {
     "name": "stderr",
     "output_type": "stream",
     "text": [
      "[Parallel(n_jobs=-1)]: Done 867 tasks      | elapsed:    1.6s\n",
      "[Parallel(n_jobs=-1)]: Done 1000 out of 1000 | elapsed:    1.8s finished\n"
     ]
    },
    {
     "data": {
      "text/plain": [
       "{'splitter': 'best',\n",
       " 'min_samples_split': 100,\n",
       " 'min_samples_leaf': 4,\n",
       " 'max_depth': 20,\n",
       " 'criterion': 'gini'}"
      ]
     },
     "execution_count": 385,
     "metadata": {},
     "output_type": "execute_result"
    }
   ],
   "source": [
    "# Strategy used to choose the split at each node\n",
    "splitter = ['best', 'random']\n",
    "# function to measure the quality of a split\n",
    "criterion = ['gini','entropy']\n",
    "# Number of features to consider at every split\n",
    "max_features = ['auto', 'sqrt']\n",
    "# Maximum number of levels in tree\n",
    "max_depth = [int(x) for x in np.linspace(10, 110, num = 11)]\n",
    "max_depth.append(None)\n",
    "# Minimum number of samples required to split a node\n",
    "min_samples_split = [5, 10, 20, 50, 100, 500, 1000]\n",
    "# Minimum number of samples required at each leaf node\n",
    "min_samples_leaf = [1, 2, 4, 5, 6, 7, 10]\n",
    "\n",
    "# Create the random grid\n",
    "random_grid = { \n",
    "    \"splitter\": splitter,\n",
    "    'criterion': criterion,\n",
    "    'max_depth': max_depth,\n",
    "    'min_samples_leaf': min_samples_leaf,\n",
    "    'min_samples_split': min_samples_split,\n",
    "}\n",
    "# Use the random grid to search for best hyperparameters\n",
    "# First create the base model to tune\n",
    "dt = DecisionTreeClassifier()\n",
    "\n",
    "# Random search of parameters, using 3 fold cross validation, \n",
    "# search across 100 different combinations, and use all available cores\n",
    "dt_random = RandomizedSearchCV(estimator=dt, param_distributions=random_grid, n_iter=100, cv=10, verbose=2, random_state=42, n_jobs=-1)\n",
    "\n",
    "# Fit the random search model\n",
    "dt_random.fit(X_train, y_train)\n",
    "\n",
    "print(\"Best parameters from RandomizedSearch:\")\n",
    "dt_random.best_params_"
   ]
  },
  {
   "cell_type": "markdown",
   "metadata": {},
   "source": [
    "#### Grid Search on DecisionTreeClassifier"
   ]
  },
  {
   "cell_type": "code",
   "execution_count": 386,
   "metadata": {},
   "outputs": [
    {
     "name": "stdout",
     "output_type": "stream",
     "text": [
      "Tuned hpyerparameters :(best parameters)  {'criterion': 'gini', 'max_depth': 5, 'min_samples_leaf': 6, 'min_samples_split': 20, 'splitter': 'best'}\n",
      "Best score (refit key) : 0.8368856477978442\n"
     ]
    }
   ],
   "source": [
    "scoring = {'AUC': 'roc_auc', 'Accuracy': make_scorer(accuracy_score)}\n",
    "\n",
    "grid = { \n",
    "    \"splitter\":['best', 'random'],\n",
    "    'criterion':['gini'],\n",
    "    'max_depth': [5, 10, 15, 20, 25, 30],\n",
    "    'min_samples_leaf': [2, 3, 4, 5, 6],\n",
    "    'min_samples_split': [15, 10, 20, 25, 30],\n",
    "}\n",
    "\n",
    "\n",
    "dt = DecisionTreeClassifier()\n",
    "dt_cv = GridSearchCV(dt, grid, cv=10, scoring=scoring, refit='AUC', return_train_score=True)\n",
    "dt_cv.fit(X_train, y_train)\n",
    "results = dt_cv.cv_results_\n",
    "print(\"Tuned hpyerparameters :(best parameters) \", dt_cv.best_params_)\n",
    "print(\"Best score (refit key) :\", dt_cv.best_score_)\n",
    "dt_optimized = dt_cv.best_estimator_"
   ]
  },
  {
   "cell_type": "code",
   "execution_count": 389,
   "metadata": {},
   "outputs": [
    {
     "data": {
      "image/png": "[encoded data removed]",
      "text/plain": [
       "<Figure size 576x432 with 1 Axes>"
      ]
     },
     "metadata": {},
     "output_type": "display_data"
    }
   ],
   "source": [
    "scores = dt_optimized.fit(X_train, y_train).predict(X_test)\n",
    "Model_Plots().plot_prec_rec_curve(X_train, y_train, X_test, y_test, scores)"
   ]
  },
  {
   "cell_type": "code",
   "execution_count": 390,
   "metadata": {},
   "outputs": [
    {
     "data": {
      "image/png": "[encoded data removed]",
      "text/plain": [
       "<Figure size 576x432 with 1 Axes>"
      ]
     },
     "metadata": {},
     "output_type": "display_data"
    }
   ],
   "source": [
    "scores = dt_optimized.fit(X_train, y_train).predict(X_test)\n",
    "Model_Plots().plot_roc_curve(X_train, y_train, X_test, y_test, scores)"
   ]
  },
  {
   "cell_type": "code",
   "execution_count": 391,
   "metadata": {},
   "outputs": [
    {
     "name": "stdout",
     "output_type": "stream",
     "text": [
      "              precision    recall  f1-score   support\n",
      "\n",
      "      Stayed       0.87      0.95      0.91      3190\n",
      "      Exited       0.71      0.45      0.55       810\n",
      "\n",
      "    accuracy                           0.85      4000\n",
      "   macro avg       0.79      0.70      0.73      4000\n",
      "weighted avg       0.84      0.85      0.84      4000\n",
      "\n"
     ]
    }
   ],
   "source": [
    "dt_predicted_test = dt_optimized.predict(X_test)\n",
    "# Combined report with all above metrics\n",
    "print(classification_report(y_test, dt_predicted_test, target_names=['Stayed', 'Exited']))"
   ]
  },
  {
   "cell_type": "markdown",
   "metadata": {},
   "source": [
    "The DecisionTree classifier performed better than the LogisticRegression one. "
   ]
  },
  {
   "cell_type": "markdown",
   "metadata": {},
   "source": [
    "### 3.2 DecisionTrees: RandomForest\n",
    "\n",
    "When the dataset is of medium or large size, one can use a RandomForest to get better results."
   ]
  },
  {
   "cell_type": "markdown",
   "metadata": {},
   "source": [
    "#### Random Search on RandomForestClassifier"
   ]
  },
  {
   "cell_type": "code",
   "execution_count": 355,
   "metadata": {},
   "outputs": [
    {
     "name": "stdout",
     "output_type": "stream",
     "text": [
      "Fitting 3 folds for each of 100 candidates, totalling 300 fits\n"
     ]
    },
    {
     "name": "stderr",
     "output_type": "stream",
     "text": [
      "[Parallel(n_jobs=-1)]: Using backend LokyBackend with 12 concurrent workers.\n",
      "[Parallel(n_jobs=-1)]: Done  17 tasks      | elapsed:    8.0s\n",
      "[Parallel(n_jobs=-1)]: Done 138 tasks      | elapsed:   48.4s\n",
      "[Parallel(n_jobs=-1)]: Done 300 out of 300 | elapsed:  2.0min finished\n"
     ]
    },
    {
     "data": {
      "text/plain": [
       "{'n_estimators': 400,\n",
       " 'min_samples_split': 5,\n",
       " 'min_samples_leaf': 2,\n",
       " 'max_features': 'auto',\n",
       " 'max_depth': None,\n",
       " 'bootstrap': True}"
      ]
     },
     "execution_count": 355,
     "metadata": {},
     "output_type": "execute_result"
    }
   ],
   "source": [
    "# Number of trees in random forest\n",
    "n_estimators = [int(x) for x in np.linspace(start = 100, stop = 1000, num = 10)]\n",
    "# Number of features to consider at every split\n",
    "max_features = ['auto', 'sqrt']\n",
    "# Maximum number of levels in tree\n",
    "max_depth = [int(x) for x in np.linspace(10, 110, num = 11)]\n",
    "max_depth.append(None)\n",
    "# Minimum number of samples required to split a node\n",
    "min_samples_split = [2, 5, 10]\n",
    "# Minimum number of samples required at each leaf node\n",
    "min_samples_leaf = [1, 2, 4]\n",
    "# Method of selecting samples for training each tree\n",
    "bootstrap = [True, False]\n",
    "# Create the random grid\n",
    "random_grid = {'n_estimators': n_estimators,\n",
    "               'max_features': max_features,\n",
    "               'max_depth': max_depth,\n",
    "               'min_samples_split': min_samples_split,\n",
    "               'min_samples_leaf': min_samples_leaf,\n",
    "               'bootstrap': bootstrap}\n",
    "\n",
    "# Use the random grid to search for best hyperparameters\n",
    "# First create the base model to tune\n",
    "rf = RandomForestClassifier()\n",
    "# Random search of parameters, using 3 fold cross validation, \n",
    "# search across 100 different combinations, and use all available cores\n",
    "rf_random = RandomizedSearchCV(estimator=rf, param_distributions=random_grid, n_iter=100, cv=3, verbose=2, random_state=42, n_jobs=-1)\n",
    "# Fit the random search model\n",
    "rf_random.fit(X_train, y_train)\n",
    "# rf_random.best_params_"
   ]
  },
  {
   "cell_type": "markdown",
   "metadata": {},
   "source": [
    "#### Visualize one DecisionTree from the forest"
   ]
  },
  {
   "cell_type": "code",
   "execution_count": 372,
   "metadata": {},
   "outputs": [
    {
     "name": "stdout",
     "output_type": "stream",
     "text": [
      "Exported decision tree to ../05.Insights/tree.png\n"
     ]
    }
   ],
   "source": [
    "# visualize one tree, will be saved as png\n",
    "clf = RandomForestClassifier(\n",
    "                                        n_estimators=400,\n",
    "                                        min_samples_split=5,\n",
    "                                        min_samples_leaf=2,\n",
    "                                        max_features='auto',\n",
    "                                        max_depth=None,\n",
    "                                        bootstrap=True                                 \n",
    "                                    )\n",
    "clf.fit(X_train, y_train)\n",
    "# pick one of the trees\n",
    "estimator = clf.estimators_[5]\n",
    "Model_Plots().visualize_decision_tree(estimator, outpath='../05.Insights/')"
   ]
  },
  {
   "cell_type": "markdown",
   "metadata": {},
   "source": [
    "#### Grid Search on RandomForestClassifier"
   ]
  },
  {
   "cell_type": "code",
   "execution_count": 374,
   "metadata": {},
   "outputs": [
    {
     "name": "stdout",
     "output_type": "stream",
     "text": [
      "Fitting 3 folds for each of 648 candidates, totalling 1944 fits\n"
     ]
    },
    {
     "name": "stderr",
     "output_type": "stream",
     "text": [
      "[Parallel(n_jobs=-1)]: Using backend LokyBackend with 12 concurrent workers.\n",
      "[Parallel(n_jobs=-1)]: Done  17 tasks      | elapsed:    8.0s\n",
      "[Parallel(n_jobs=-1)]: Done 138 tasks      | elapsed:   59.9s\n",
      "[Parallel(n_jobs=-1)]: Done 341 tasks      | elapsed:  2.9min\n",
      "[Parallel(n_jobs=-1)]: Done 624 tasks      | elapsed:  5.3min\n",
      "[Parallel(n_jobs=-1)]: Done 989 tasks      | elapsed:  8.5min\n",
      "[Parallel(n_jobs=-1)]: Done 1434 tasks      | elapsed: 12.8min\n",
      "[Parallel(n_jobs=-1)]: Done 1944 out of 1944 | elapsed: 18.3min finished\n"
     ]
    },
    {
     "name": "stdout",
     "output_type": "stream",
     "text": [
      "Tuned hpyerparameters :(best parameters)  {'bootstrap': True, 'max_depth': 10, 'max_features': 'auto', 'min_samples_leaf': 1, 'min_samples_split': 5, 'n_estimators': 200}\n",
      "Best score (refit key) : 0.8615321411136502\n"
     ]
    }
   ],
   "source": [
    "scoring = {'AUC': 'roc_auc', 'Accuracy': make_scorer(accuracy_score)}\n",
    "# Create the parameter grid based on the results of random search \n",
    "param_grid = {\n",
    "    'bootstrap': [True],\n",
    "    'max_depth': [None, 10, 50, 100],\n",
    "    'max_features': ['auto', 2, 3],\n",
    "    'min_samples_leaf': [1, 2, 3],\n",
    "    'min_samples_split': [3, 5, 7],\n",
    "    'n_estimators': [200, 300, 400, 500, 600, 1000]\n",
    "}\n",
    "# Create a based model\n",
    "rf = RandomForestClassifier()\n",
    "# Instantiate the grid search model\n",
    "rf_cv = GridSearchCV(estimator=rf, param_grid=param_grid, cv=3, n_jobs=-1, verbose=2,  scoring=scoring, refit='AUC', return_train_score=True)\n",
    "rf_cv.fit(X_train, y_train)\n",
    "results = rf_cv.cv_results_\n",
    "print(\"Tuned hpyerparameters :(best parameters) \", rf_cv.best_params_)\n",
    "print(\"Best score (refit key) :\", rf_cv.best_score_)\n",
    "rf_optimized = rf_cv.best_estimator_\n"
   ]
  },
  {
   "cell_type": "code",
   "execution_count": 402,
   "metadata": {},
   "outputs": [
    {
     "name": "stdout",
     "output_type": "stream",
     "text": [
      "Classification report for LogisticRegression\n",
      "              precision    recall  f1-score   support\n",
      "\n",
      "      Stayed       0.83      0.96      0.89      3190\n",
      "      Exited       0.57      0.21      0.31       810\n",
      "\n",
      "    accuracy                           0.81      4000\n",
      "   macro avg       0.70      0.58      0.60      4000\n",
      "weighted avg       0.77      0.81      0.77      4000\n",
      "\n",
      "Classification report for DecisionTreeClassifier\n",
      "              precision    recall  f1-score   support\n",
      "\n",
      "      Stayed       0.87      0.95      0.91      3190\n",
      "      Exited       0.71      0.45      0.55       810\n",
      "\n",
      "    accuracy                           0.85      4000\n",
      "   macro avg       0.79      0.70      0.73      4000\n",
      "weighted avg       0.84      0.85      0.84      4000\n",
      "\n",
      "Classification report for RandomForestClassifier\n",
      "              precision    recall  f1-score   support\n",
      "\n",
      "      Stayed       0.87      0.97      0.92      3190\n",
      "      Exited       0.81      0.45      0.58       810\n",
      "\n",
      "    accuracy                           0.87      4000\n",
      "   macro avg       0.84      0.71      0.75      4000\n",
      "weighted avg       0.86      0.87      0.85      4000\n",
      "\n"
     ]
    }
   ],
   "source": [
    "print(\"Classification report for LogisticRegression\")\n",
    "lr_predicted_test = lr_optimized.predict(X_test)\n",
    "# Combined report with all above metrics\n",
    "print(classification_report(y_test, lr_predicted_test, target_names=['Stayed', 'Exited']))\n",
    "print(\"Classification report for DecisionTreeClassifier\")\n",
    "print(classification_report(y_test, dt_predicted_test, target_names=['Stayed', 'Exited']))\n",
    "print(\"Classification report for RandomForestClassifier\")\n",
    "rf_predicted_test = rf_optimized.predict(X_test)\n",
    "# Combined report with all above metrics\n",
    "print(classification_report(y_test, rf_predicted_test, target_names=['Stayed', 'Exited']))"
   ]
  },
  {
   "cell_type": "markdown",
   "metadata": {},
   "source": [
    "The RandomForestClassifier performed slightly better than the DecisionTreeClassifier."
   ]
  },
  {
   "cell_type": "markdown",
   "metadata": {},
   "source": [
    "### 3.3 K-NN\n",
    "\n",
    "\n",
    "The K nearest neighbor classifier uses patterns in the data to place new points in a relevant category. The algorithm analyses the likeness of a new sample point given the traning sample points. It is an intuitive algorithm that does not make assumptions on the data."
   ]
  },
  {
   "cell_type": "markdown",
   "metadata": {},
   "source": [
    "#### Random Search with KNN"
   ]
  },
  {
   "cell_type": "code",
   "execution_count": 400,
   "metadata": {},
   "outputs": [
    {
     "name": "stdout",
     "output_type": "stream",
     "text": [
      "Fitting 10 folds for each of 100 candidates, totalling 1000 fits\n"
     ]
    },
    {
     "name": "stderr",
     "output_type": "stream",
     "text": [
      "[Parallel(n_jobs=-1)]: Using backend LokyBackend with 12 concurrent workers.\n",
      "[Parallel(n_jobs=-1)]: Done  17 tasks      | elapsed:    0.2s\n",
      "[Parallel(n_jobs=-1)]: Done 624 tasks      | elapsed:    2.6s\n"
     ]
    },
    {
     "name": "stdout",
     "output_type": "stream",
     "text": [
      "Best parameters from RandomizedSearch:\n"
     ]
    },
    {
     "name": "stderr",
     "output_type": "stream",
     "text": [
      "[Parallel(n_jobs=-1)]: Done 1000 out of 1000 | elapsed:    3.9s finished\n"
     ]
    },
    {
     "data": {
      "text/plain": [
       "{'weights': 'uniform', 'p': 1, 'n_neighbors': 20}"
      ]
     },
     "execution_count": 400,
     "metadata": {},
     "output_type": "execute_result"
    }
   ],
   "source": [
    "# Number of neighbors to use by default for kneighbors queries\n",
    "n_neighbors = np.arange(1,101,1)\n",
    "# weight function used in prediction\n",
    "weights = ['uniform', 'distance']\n",
    "# Power parameter for the Minkowski metric, 1: manhattan_distance, 2: euclidean_distance\n",
    "p = [1, 2]\n",
    "\n",
    "param_grid = {\n",
    "    \"n_neighbors\": n_neighbors,\n",
    "    \"weights\": weights,\n",
    "    \"p\": p\n",
    "}\n",
    "\n",
    "# Use the random grid to search for best hyperparameters\n",
    "# First create the base model to tune\n",
    "knn = KNeighborsClassifier()\n",
    "\n",
    "# Random search of parameters, using 3 fold cross validation, \n",
    "# search across 100 different combinations, and use all available cores\n",
    "knn_random = RandomizedSearchCV(estimator=knn, param_distributions=param_grid, n_iter=100, cv=10, verbose=2, random_state=42, n_jobs=-1)\n",
    "\n",
    "# Fit the random search model\n",
    "knn_random.fit(X_train, y_train)\n",
    "\n",
    "print(\"Best parameters from RandomizedSearch:\")\n",
    "knn_random.best_params_"
   ]
  },
  {
   "cell_type": "markdown",
   "metadata": {},
   "source": [
    "#### Grid Search with KNN"
   ]
  },
  {
   "cell_type": "code",
   "execution_count": 401,
   "metadata": {},
   "outputs": [
    {
     "name": "stdout",
     "output_type": "stream",
     "text": [
      "Fitting 3 folds for each of 400 candidates, totalling 1200 fits\n"
     ]
    },
    {
     "name": "stderr",
     "output_type": "stream",
     "text": [
      "[Parallel(n_jobs=-1)]: Using backend LokyBackend with 12 concurrent workers.\n",
      "[Parallel(n_jobs=-1)]: Done  17 tasks      | elapsed:    0.5s\n",
      "[Parallel(n_jobs=-1)]: Done 252 tasks      | elapsed:    6.1s\n",
      "[Parallel(n_jobs=-1)]: Done 658 tasks      | elapsed:   20.2s\n",
      "[Parallel(n_jobs=-1)]: Done 960 tasks      | elapsed:   34.4s\n"
     ]
    },
    {
     "name": "stdout",
     "output_type": "stream",
     "text": [
      "Tuned hpyerparameters :(best parameters)  {'n_neighbors': 64, 'p': 1, 'weights': 'distance'}\n",
      "Best score (refit key) : 0.6209764378582255\n"
     ]
    },
    {
     "name": "stderr",
     "output_type": "stream",
     "text": [
      "[Parallel(n_jobs=-1)]: Done 1200 out of 1200 | elapsed:   48.0s finished\n"
     ]
    }
   ],
   "source": [
    "scoring = {'AUC': 'roc_auc', 'Accuracy': make_scorer(accuracy_score)}\n",
    "# Create the parameter grid based on the results of random search \n",
    "param_grid = {\n",
    "    \"n_neighbors\": n_neighbors,\n",
    "    \"weights\": weights,\n",
    "    \"p\": p\n",
    "}\n",
    "# Create a based model\n",
    "knn = KNeighborsClassifier()\n",
    "# Instantiate the grid search model\n",
    "knn_cv = GridSearchCV(estimator=knn, param_grid=param_grid, cv=3, n_jobs=-1, verbose=2,  scoring=scoring, refit='AUC', return_train_score=True)\n",
    "knn_cv.fit(X_train, y_train)\n",
    "results = knn_cv.cv_results_\n",
    "print(\"Tuned hpyerparameters :(best parameters) \", knn_cv.best_params_)\n",
    "print(\"Best score (refit key) :\", knn_cv.best_score_)\n",
    "knn_optimized = knn_cv.best_estimator_\n"
   ]
  },
  {
   "cell_type": "code",
   "execution_count": 403,
   "metadata": {},
   "outputs": [
    {
     "name": "stdout",
     "output_type": "stream",
     "text": [
      "Classification report for LogisticRegression\n",
      "              precision    recall  f1-score   support\n",
      "\n",
      "      Stayed       0.83      0.96      0.89      3190\n",
      "      Exited       0.57      0.21      0.31       810\n",
      "\n",
      "    accuracy                           0.81      4000\n",
      "   macro avg       0.70      0.58      0.60      4000\n",
      "weighted avg       0.77      0.81      0.77      4000\n",
      "\n",
      "Classification report for DecisionTreeClassifier\n",
      "              precision    recall  f1-score   support\n",
      "\n",
      "      Stayed       0.87      0.95      0.91      3190\n",
      "      Exited       0.71      0.45      0.55       810\n",
      "\n",
      "    accuracy                           0.85      4000\n",
      "   macro avg       0.79      0.70      0.73      4000\n",
      "weighted avg       0.84      0.85      0.84      4000\n",
      "\n",
      "Classification report for RandomForestClassifier\n",
      "              precision    recall  f1-score   support\n",
      "\n",
      "      Stayed       0.87      0.97      0.92      3190\n",
      "      Exited       0.81      0.45      0.58       810\n",
      "\n",
      "    accuracy                           0.87      4000\n",
      "   macro avg       0.84      0.71      0.75      4000\n",
      "weighted avg       0.86      0.87      0.85      4000\n",
      "\n",
      "Classification report for KNNClassifier\n",
      "              precision    recall  f1-score   support\n",
      "\n",
      "      Stayed       0.80      1.00      0.89      3190\n",
      "      Exited       0.31      0.00      0.01       810\n",
      "\n",
      "    accuracy                           0.80      4000\n",
      "   macro avg       0.55      0.50      0.45      4000\n",
      "weighted avg       0.70      0.80      0.71      4000\n",
      "\n"
     ]
    }
   ],
   "source": [
    "print(\"Classification report for LogisticRegression\")\n",
    "print(classification_report(y_test, lr_predicted_test, target_names=['Stayed', 'Exited']))\n",
    "\n",
    "print(\"Classification report for DecisionTreeClassifier\")\n",
    "print(classification_report(y_test, dt_predicted_test, target_names=['Stayed', 'Exited']))\n",
    "\n",
    "print(\"Classification report for RandomForestClassifier\")\n",
    "print(classification_report(y_test, rf_predicted_test, target_names=['Stayed', 'Exited']))\n",
    "\n",
    "print(\"Classification report for KNNClassifier\")\n",
    "knn_predicted_test = knn_optimized.predict(X_test)\n",
    "print(classification_report(y_test, knn_predicted_test, target_names=['Stayed', 'Exited']))"
   ]
  },
  {
   "cell_type": "markdown",
   "metadata": {},
   "source": [
    "The KNNClassifier does perform very poorly compared to the other algorithms. This is very evident from the f1 score (harmonic mean of recall and precision), for example in the Exited class, where the score is very low."
   ]
  },
  {
   "cell_type": "markdown",
   "metadata": {},
   "source": [
    "### 3.4 Naive Bayes\n",
    "\n",
    "Naive Bayes methods are a set of supervised learning algorithms based on applying Bayes’ theorem with the strong, “naive” assumption of conditional independence between every pair of features given the value of the class variable. In many datasets, there can be some level of correlation between the independent variables contained within them. It does still work quite well for problems, i.e. E-Mail spam detection."
   ]
  },
  {
   "cell_type": "markdown",
   "metadata": {},
   "source": [
    "#### Complement Naive Bayes classifier \n",
    "\n",
    "The Complement Naive Bayes classifier was designed to correct the “severe assumptions” made by the standard Multinomial Naive Bayes classifier. It is particularly suited for imbalanced data sets."
   ]
  },
  {
   "cell_type": "code",
   "execution_count": 405,
   "metadata": {},
   "outputs": [
    {
     "name": "stdout",
     "output_type": "stream",
     "text": [
      "              precision    recall  f1-score   support\n",
      "\n",
      "      Stayed       0.84      0.45      0.59      3190\n",
      "      Exited       0.24      0.67      0.35       810\n",
      "\n",
      "    accuracy                           0.50      4000\n",
      "   macro avg       0.54      0.56      0.47      4000\n",
      "weighted avg       0.72      0.50      0.54      4000\n",
      "\n"
     ]
    }
   ],
   "source": [
    "from sklearn.naive_bayes import ComplementNB\n",
    "CNB = ComplementNB()\n",
    "CNB.fit(X_train, y_train)\n",
    "CNB_predicted_test = CNB.predict(X_test)\n",
    "print(classification_report(y_test, CNB_predicted_test, target_names=['Stayed', 'Exited']))"
   ]
  },
  {
   "cell_type": "markdown",
   "metadata": {},
   "source": [
    "#### Gaussian Naive Bayes"
   ]
  },
  {
   "cell_type": "code",
   "execution_count": 406,
   "metadata": {},
   "outputs": [
    {
     "name": "stdout",
     "output_type": "stream",
     "text": [
      "              precision    recall  f1-score   support\n",
      "\n",
      "      Stayed       0.81      0.97      0.88      3190\n",
      "      Exited       0.38      0.09      0.14       810\n",
      "\n",
      "    accuracy                           0.79      4000\n",
      "   macro avg       0.59      0.53      0.51      4000\n",
      "weighted avg       0.72      0.79      0.73      4000\n",
      "\n"
     ]
    }
   ],
   "source": [
    "from sklearn.naive_bayes import GaussianNB\n",
    "GCB = GaussianNB()\n",
    "GCB.fit(X_train, y_train)\n",
    "GCB_predicted_test = GCB.predict(X_test)\n",
    "print(classification_report(y_test, GCB_predicted_test, target_names=['Stayed', 'Exited']))"
   ]
  },
  {
   "cell_type": "markdown",
   "metadata": {},
   "source": [
    "#### Bernoulli Naive Bayes"
   ]
  },
  {
   "cell_type": "code",
   "execution_count": 407,
   "metadata": {},
   "outputs": [
    {
     "name": "stdout",
     "output_type": "stream",
     "text": [
      "              precision    recall  f1-score   support\n",
      "\n",
      "      Stayed       0.82      0.94      0.87      3190\n",
      "      Exited       0.41      0.18      0.25       810\n",
      "\n",
      "    accuracy                           0.78      4000\n",
      "   macro avg       0.62      0.56      0.56      4000\n",
      "weighted avg       0.74      0.78      0.75      4000\n",
      "\n"
     ]
    }
   ],
   "source": [
    "from sklearn.naive_bayes import BernoulliNB\n",
    "BNB = BernoulliNB()\n",
    "BNB.fit(X_train, y_train)\n",
    "BNB_predicted_test = BNB.predict(X_test)\n",
    "print(classification_report(y_test, BNB_predicted_test, target_names=['Stayed', 'Exited']))"
   ]
  },
  {
   "cell_type": "markdown",
   "metadata": {},
   "source": [
    "These classifiers do not perform better than the baseline classifier. Naive Bayes is still a good classifier for non-linear problems, where the classes cannot be separated easily. Also, it is a very outlier resistant algorithm."
   ]
  },
  {
   "cell_type": "markdown",
   "metadata": {},
   "source": [
    "#### Overview"
   ]
  },
  {
   "cell_type": "code",
   "execution_count": 413,
   "metadata": {},
   "outputs": [
    {
     "name": "stdout",
     "output_type": "stream",
     "text": [
      "Accuracy of dummy model\n",
      "Training set accuracy: 0.80\n",
      "Test set accuracy: 0.80\n",
      "\n",
      "Classification report for LogisticRegression\n",
      "              precision    recall  f1-score   support\n",
      "\n",
      "      Stayed       0.83      0.96      0.89      3190\n",
      "      Exited       0.57      0.21      0.31       810\n",
      "\n",
      "    accuracy                           0.81      4000\n",
      "   macro avg       0.70      0.58      0.60      4000\n",
      "weighted avg       0.77      0.81      0.77      4000\n",
      "\n",
      "Classification report for DecisionTreeClassifier\n",
      "              precision    recall  f1-score   support\n",
      "\n",
      "      Stayed       0.87      0.95      0.91      3190\n",
      "      Exited       0.71      0.45      0.55       810\n",
      "\n",
      "    accuracy                           0.85      4000\n",
      "   macro avg       0.79      0.70      0.73      4000\n",
      "weighted avg       0.84      0.85      0.84      4000\n",
      "\n",
      "Classification report for RandomForestClassifier\n",
      "              precision    recall  f1-score   support\n",
      "\n",
      "      Stayed       0.87      0.97      0.92      3190\n",
      "      Exited       0.81      0.45      0.58       810\n",
      "\n",
      "    accuracy                           0.87      4000\n",
      "   macro avg       0.84      0.71      0.75      4000\n",
      "weighted avg       0.86      0.87      0.85      4000\n",
      "\n",
      "Classification report for KNNClassifier\n",
      "              precision    recall  f1-score   support\n",
      "\n",
      "      Stayed       0.80      1.00      0.89      3190\n",
      "      Exited       0.31      0.00      0.01       810\n",
      "\n",
      "    accuracy                           0.80      4000\n",
      "   macro avg       0.55      0.50      0.45      4000\n",
      "weighted avg       0.70      0.80      0.71      4000\n",
      "\n"
     ]
    }
   ],
   "source": [
    "print(\"Accuracy of dummy model\")\n",
    "print('Training set accuracy: {:.2f}'.format(accuracy_score(y_train, dummy_majority.predict(X_train))))\n",
    "print('Test set accuracy: {:.2f}'.format(accuracy_score(y_test, dummy_majority.predict(X_test))) + '\\n')\n",
    "\n",
    "print(\"Classification report for LogisticRegression\")\n",
    "print(classification_report(y_test, lr_predicted_test, target_names=['Stayed', 'Exited']))\n",
    "\n",
    "print(\"Classification report for DecisionTreeClassifier\")\n",
    "print(classification_report(y_test, dt_predicted_test, target_names=['Stayed', 'Exited']))\n",
    "\n",
    "print(\"Classification report for RandomForestClassifier\")\n",
    "print(classification_report(y_test, rf_predicted_test, target_names=['Stayed', 'Exited']))\n",
    "\n",
    "print(\"Classification report for KNNClassifier\")\n",
    "knn_predicted_test = knn_optimized.predict(X_test)\n",
    "print(classification_report(y_test, knn_predicted_test, target_names=['Stayed', 'Exited']))"
   ]
  },
  {
   "cell_type": "markdown",
   "metadata": {},
   "source": [
    "# Summary"
   ]
  },
  {
   "cell_type": "markdown",
   "metadata": {},
   "source": [
    "In this part, the customer churn was predicted using a very fast MVP. Comparing to the baseline dummy model (80% accuracy predicting majority class), a RandomForest and DecisionTree classifier performed slightly better with an accuracy of 87% and 85%, respectively. A logistic regression classifier did also perform slightly better than the baseline model (81%). KNN and Naive Bayes classifier performed very poorly.\n",
    "\n",
    "In the next step of the project, the features will be refined, i.e. normalized, scaled, to improve model performance."
   ]
  },
  {
   "cell_type": "code",
   "execution_count": null,
   "metadata": {},
   "outputs": [],
   "source": []
  }
 ],
 "metadata": {
  "kernelspec": {
   "display_name": "Python 3",
   "language": "python",
   "name": "python3"
  },
  "language_info": {
   "codemirror_mode": {
    "name": "ipython",
    "version": 3
   },
   "file_extension": ".py",
   "mimetype": "text/x-python",
   "name": "python",
   "nbconvert_exporter": "python",
   "pygments_lexer": "ipython3",
   "version": "3.8.1"
  }
 },
 "nbformat": 4,
 "nbformat_minor": 4
}
