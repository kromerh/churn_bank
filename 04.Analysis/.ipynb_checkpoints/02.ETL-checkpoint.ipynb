{
 "cells": [
  {
   "cell_type": "markdown",
   "metadata": {},
   "source": [
    "# Bank customer churn prediction: ETL\n",
    "\n",
    "\n",
    "In this project, the overall goal is to predict the churn of bank customers. From a business perspective, this is very relevant for the effort to retain customers with the ultimate end goal of increasing profitability.\n",
    "\n",
    "Customer churn is defined as the percentage of customers that stopped using a company's product or service offering in a defined time frame. One might consider that customer churn is not so important as long as more new customers are acquired than lost to the company. This is fogetting entirely the cost of acquiring new customers. Bringing in new customers is a lot less profitable than retaining customers. In financial services, for example, a 5% increase in customer retention produces more than a 25% increase in profit (http://www2.bain.com/Images/BB_Prescription_cutting_costs.pdf). The reason for that is because returning customers spend on average more than already existing customers. In online services, a loyal customer spends on average 2/3 more than a new one (http://www2.bain.com/Images/Value_online_customer_loyalty_you_capture.pdf). At the same time there is a cost associated with acquiring new customers, which decreases when less new customers have to be acquired. Keeping existing customers thus allows for a reallocation of funds away from the need of growing by acquiring new customers. \n",
    "\n",
    "Customer churn can be reduced by pooling resources into keeping the most profitable customers, instead of focusing on keeping overall customer numbers (even unprofitable ones). Another option would be to find out why and when customers are leaving, thus targeting in a customer lifetime this specific point and put effort into avoiding churn. In either case, the customer churn has to be thoroughly analyzed, which is what this small example project is designed to deliver.\n",
    "\n",
    "## Outline\n",
    "\n",
    "This churn prediction project follows this outline:\n",
    "\n",
    "1. Dataset description\n",
    "2. Descriptive visualizations using Tableau\n",
    "3. **Data extraction, transforming, and loading (ETL)**\n",
    "4. Analysis of the dataset\n",
    "5. Visualization of the insights\n",
    "\n",
    "In this part of the project, stage 3 is covered."
   ]
  },
  {
   "cell_type": "code",
   "execution_count": 76,
   "metadata": {},
   "outputs": [],
   "source": [
    "import pandas as pd\n",
    "import numpy as np\n",
    "from scipy import stats\n",
    "import matplotlib.pyplot as plt\n",
    "import seaborn as sns"
   ]
  },
  {
   "cell_type": "code",
   "execution_count": 236,
   "metadata": {},
   "outputs": [],
   "source": [
    "class ETL():\n",
    "    \"\"\" Class for the ETL part that contains all the methods\"\"\"\n",
    "    def __init__(self):\n",
    "        self.save_path_prepared = '../02.Prepared_data/'\n",
    "        \n",
    "    def load_data(self, path):\n",
    "        \"\"\"\n",
    "        Reads and returns the dataset.\n",
    "        \"\"\"\n",
    "        data = pd.read_excel(path)\n",
    "        \n",
    "        return data\n",
    "    \n",
    "    def get_dummies(self, df, colname):\n",
    "        \"\"\"\n",
    "        Does one hot encoding on the dataframe df on column colname. Returns the dataframe.\n",
    "        \"\"\"\n",
    "        df_dummy = pd.get_dummies(df[colname], prefix=colname)  # dummy encoding\n",
    "        df = pd.concat([df, df_dummy], axis=1)  # combine the dfs\n",
    "        df = df.drop(colname, axis=1) # remove the original column\n",
    "\n",
    "        return df\n",
    "    \n",
    "    def save_data_prepared(self, dataframe, filename):\n",
    "        \"\"\"\n",
    "        Saves the dataframe with the filename intot he prepared folder.\n",
    "        \"\"\"\n",
    "        dataframe.to_csv(f\"{self.save_path_prepared}/{filename}\")\n",
    "\n",
    "        return None"
   ]
  },
  {
   "cell_type": "markdown",
   "metadata": {},
   "source": [
    "## 1. Loading the dataset"
   ]
  },
  {
   "cell_type": "code",
   "execution_count": 237,
   "metadata": {},
   "outputs": [],
   "source": [
    "# Constants\n",
    "FNAME = '../01.Original_data/P12-Churn-Modelling.xlsx' # path to the original dataset\n",
    "data = ETL().load_data(FNAME)"
   ]
  },
  {
   "cell_type": "markdown",
   "metadata": {},
   "source": [
    "## 2. Exploration of the columns\n",
    "\n",
    "In this step, the objective is to find if there are any missing values, if the datatypes are correct, and identify outliers."
   ]
  },
  {
   "cell_type": "code",
   "execution_count": 13,
   "metadata": {},
   "outputs": [
    {
     "name": "stdout",
     "output_type": "stream",
     "text": [
      "<class 'pandas.core.frame.DataFrame'>\n",
      "RangeIndex: 10000 entries, 0 to 9999\n",
      "Data columns (total 14 columns):\n",
      "RowNumber          10000 non-null int64\n",
      "CustomerId         10000 non-null int64\n",
      "Surname            10000 non-null object\n",
      "CreditScore        10000 non-null int64\n",
      "Geography          10000 non-null object\n",
      "Gender             10000 non-null object\n",
      "Age                10000 non-null int64\n",
      "Tenure             10000 non-null int64\n",
      "Balance            10000 non-null float64\n",
      "NumOfProducts      10000 non-null int64\n",
      "HasCrCard          10000 non-null int64\n",
      "IsActiveMember     10000 non-null int64\n",
      "EstimatedSalary    10000 non-null float64\n",
      "Exited             10000 non-null int64\n",
      "dtypes: float64(2), int64(9), object(3)\n",
      "memory usage: 1.1+ MB\n"
     ]
    }
   ],
   "source": [
    "data.info()"
   ]
  },
  {
   "cell_type": "markdown",
   "metadata": {},
   "source": [
    "There are 14 columns which were already investigated in the previous step of the project. There was no complete description given with this dataset, during the Udemy-course \"Data Science A-to-Z\" from Kirill Eremenko some of the columns where verbally introduced (indicated with the label `verified`), but not all of them. Hence so the following column description is a \"best guess\" estimation for some columns:\n",
    "\n",
    "- `RowNumber` `verified`: A (supposedly) unique identifier for the rows.\n",
    "- `CustomerId` `verified`: An (supposedly) unique ID for the customer.\n",
    "- `Surname` `verified`: Last name of the customer.\n",
    "- `CreditScore`: A score that the bank gives to the customer, the higher the score, the more likely the customer is to receive a credit when they apply for one.\n",
    "- `Geography` `verified`: Location in which the customer is registered with the bank.\n",
    "- `Gender` `verified`: Gender of the customer.\n",
    "- `Age` `verified`: Age of the customer at the point when the dataset was extracted.\n",
    "- `Tenure`: This could be how long the customer has been with the bank at the time the dataset was extracted. It could also be the time duration of a loan. It does make more sense to assume the former, given the data, but one cannot be certain at this point.\n",
    "- `Balance` `verified`: Account balance of the customer. It is not detailed in which currency, in this project it will be considered as USD.\n",
    "- `NumOfProduct` `verified`: How many product offerings of the bank the customer has.\n",
    "- `HasCrCard` `verified`: 1 if the customer has a credit card, otherwise 0.\n",
    "- `IsActiveMember` `verified`: 1 if the customer is an active member, otherwise 0. It is not defined what \"active\" refers to.\n",
    "- `EstimatedSalary` `verified`: The salary of the customer estimated by the bank.\n",
    "- `Exited` `verified`: 1 if the customer has left the bank, 0 otherwise. This is the label that this project aims to predict.\n",
    "\n",
    "\n",
    "As one transformation step, the replacement of the categorical variables makes sense. One problem with categorical label encoding is that the higher the categorical value, the \"better\" the category could be interpreted in a machine learning algorithm. This is undesired, hence a one hot encoding, a binarization, does make more sense. Each categorical label, i.e. in geograhpy, is encoded as 1 or 0. A customer with the geography entry \"France\" would then be represented as `[1,0,0]`, one from \"Germany\" as `[0,1,0]`, and one from \"Spain\" as `[0,0,1]`."
   ]
  },
  {
   "cell_type": "markdown",
   "metadata": {},
   "source": [
    "### 2.1 Missing values\n",
    "\n",
    "From the `info` method one is fast to assume there are no missing values. There could, however, be some missing values encoded as 'missing' in the object columns, hence a closer look is warranted. Having already investigated the dataset with Tableau, one could dismiss this step, but the thorough analysis is still covered here for completeness sake."
   ]
  },
  {
   "cell_type": "code",
   "execution_count": 38,
   "metadata": {},
   "outputs": [
    {
     "name": "stdout",
     "output_type": "stream",
     "text": [
      "France     5014\n",
      "Germany    2509\n",
      "Spain      2477\n",
      "Name: Geography, dtype: int64\n",
      "Total entries in this column: 10000\n",
      "\n",
      "Male      5457\n",
      "Female    4543\n",
      "Name: Gender, dtype: int64\n",
      "Total entries in this column: 10000\n",
      "\n"
     ]
    }
   ],
   "source": [
    "# get the columns that have object datatype\n",
    "cols_to_check = data.columns\n",
    "cols_to_check = data.dtypes[data.dtypes == 'object'].index\n",
    "\n",
    "# check the value counts, do not check the surname\n",
    "for col in cols_to_check:\n",
    "    if col != 'Surname':\n",
    "        print(data[col].value_counts())\n",
    "        print(f'Total entries in this column: {data[col].value_counts().sum()}' + '\\n')"
   ]
  },
  {
   "cell_type": "markdown",
   "metadata": {},
   "source": [
    "Both Geography and Gender columns have 10000 row entries with the distributions as found in the earlier stages of this project with Tableau. \n"
   ]
  },
  {
   "cell_type": "markdown",
   "metadata": {},
   "source": [
    "### 2.2 Impact of features on Churn\n",
    "\n",
    "An initial exploration with Tableau was performed already. Some features were found to have insignificant impact on the churn of a customer (compared to the overall churn rate of 20%). Those columns that might have an impact should be tested for significance. The findings from the exploration with Tableau were:\n",
    "\n",
    "\n",
    "1. The 10000 customers are registered in three European countires: France (50%), Germany (25%), and Spain (25%). The geography could be a significant indicator for customer churn.\n",
    "2. There are about equal proportions (50-50) of male and females with the bank. Gender could be an indicator for customer churn.\n",
    "3. About 70% of customers have a credit card, but the posession of a card does not impact churn.\n",
    "4. Half of the customers are active and those that are not active seem to leave the bank at a higher rate than the active members.\n",
    "5. A customer can have between one and four products of the bank. Customers with only one product exited the bank more than those with more, but the records for customers with three or four products is scarce in the dataset.\n",
    "6. Most of the customers of the bank are in their 30s, yet churn is highest for customers between the age 45 and 65.\n",
    "7. Customers have around 80000 to 160000 USD balance in their account and churn is not impacted by that number.\n",
    "8. Most of the credit scores of the customers range from 500 to 775 and like the balance, have no clear impact on the churn of the customers.\n",
    "9. The salary estimated by the bank is likely miscomputed. Its distribution over the customers is uniform and there is no impact whatsoever on the churn.\n",
    "\n",
    "\n",
    "Hence, the features `Geography`, `Gender`, `IsActive`, `NumOfProducts`, and `Age` should be investigated further. To verify the insignificance of the other columns that was only visually assessed with Tableau, the feature `HasCrCard` will be checked here. The metric to test whether a feature is relevant for the churn the Pearson's chi-squared test is used. This test assumes that the observed frequencies for a categorical variable match the expected frequencies for the categorical variable. The test is significant (the null hypothesis is rejected) if the p-value is below the set threshold, which in the context of this project is assumed 5%. \n",
    "\n"
   ]
  },
  {
   "cell_type": "code",
   "execution_count": 108,
   "metadata": {},
   "outputs": [],
   "source": [
    "def chi2_test(obs_stayed, obs_exited, alpha, verbose=0):\n",
    "    \"\"\"\n",
    "    Chi-squared test. \n",
    "    INPUT:\n",
    "        - obs_stayed: number of customers observed in the positive class (stayed), np.array of float\n",
    "        - obs_exited: number of customers observed in the negative class (left the bank), np.array of float\n",
    "        - alpha: threshold below which the null hypothesis gets rejected, float\n",
    "        - verbose:  if 1, then there will be a more detailed output, if not 1, then no output will be printed\n",
    "    RETURN:\n",
    "        - chi2_stat: chi-squared statistic, float\n",
    "        - p_value: p_value, float \n",
    "        - n_dof: number of degrees of freedom, float\n",
    "        - ex: contingency table that contains the expected values based on all of the samples, np.array of float\n",
    "        \n",
    "    \"\"\"\n",
    "    f_obs = np.asarray([obs_exited, obs_stayed])\n",
    "    chi2_stat, p_value, n_dof, ex = stats.chi2_contingency(f_obs)\n",
    "    if verbose == 1:\n",
    "        print(f\"chi2-stat: {chi2_stat:.5f}\")\n",
    "        print(f\"p-value: {p_value}\")\n",
    "        print(f\"Degrees of freedom: {n_dof:.1f}\")\n",
    "        print(f\"Contingency table: {ex}\" + '\\n')\n",
    "        if p_value < alpha:\n",
    "            print(f\"p-value of {p_value} is below threshold of {alpha}, null hypothesis is rejected.\" + '\\n')\n",
    "        else:\n",
    "            print(f\"p-value of {p_value:.2f} is above or equal to threshold of {alpha}, null hypothesis is not rejected.\" + '\\n')\n",
    "    return chi2_stat, p_value, n_dof, ex"
   ]
  },
  {
   "cell_type": "code",
   "execution_count": 109,
   "metadata": {},
   "outputs": [],
   "source": [
    "def plot_categorical_AB_test(col):\n",
    "    \"\"\"Plots the AB test plot for the column col. Same plot as created with Tableau.\"\"\"\n",
    "    # what categorical labels are there in this column\n",
    "    cat_labels = data[col].value_counts()\n",
    "\n",
    "    # number of stayed and exited per category\n",
    "    stayed = data[data['Exited'] == 0].loc[:,col].value_counts()\n",
    "    exited = data[data['Exited'] == 1].loc[:,col].value_counts()\n",
    "\n",
    "    # collect in a dataframe\n",
    "    data_plot = pd.DataFrame()\n",
    "    data_plot['exited'] = exited\n",
    "    data_plot['stayed'] = stayed\n",
    "\n",
    "\n",
    "    # convert to relative values\n",
    "    data_plot['stayed'] = data_plot['stayed'] / cat_labels\n",
    "    data_plot['exited'] = data_plot['exited'] / cat_labels\n",
    "    \n",
    "    fig, ax = plt.subplots(figsize=(8,6))\n",
    "    \n",
    "    data_plot.plot(kind='bar', stacked=True, ax=ax, color=['darkorange', 'darkblue'])\n",
    "    plt.plot([-1000, 1000], [0.2, 0.2], '--', color='black')\n",
    "    _ = plt.ylabel(\"Fraction of total number\")\n",
    "\n",
    "    plt.show()\n"
   ]
  },
  {
   "cell_type": "markdown",
   "metadata": {},
   "source": [
    "### 2.2.1 Impact of Geography on churn significant? Yes."
   ]
  },
  {
   "cell_type": "code",
   "execution_count": 110,
   "metadata": {},
   "outputs": [
    {
     "data": {
      "image/png": "[encoded data removed]",
      "text/plain": [
       "<Figure size 576x432 with 1 Axes>"
      ]
     },
     "metadata": {},
     "output_type": "display_data"
    },
    {
     "name": "stdout",
     "output_type": "stream",
     "text": [
      "chi2-stat: 301.25534\n",
      "p-value: 3.8303176053541544e-66\n",
      "Degrees of freedom: 2.0\n",
      "Contingency table: [[1021.3518  511.0833  504.5649]\n",
      " [3992.6482 1997.9167 1972.4351]]\n",
      "\n",
      "p-value of 3.8303176053541544e-66 is below threshold of 0.05, null hypothesis is rejected.\n",
      "\n"
     ]
    }
   ],
   "source": [
    "alpha = 0.05\n",
    "\n",
    "# Geography\n",
    "col = 'Geography'\n",
    "\n",
    "# plot the churn for this column\n",
    "plot_categorical_AB_test(col)\n",
    "\n",
    "# Hypothesis test\n",
    "# H0: There is no statistically significant relationship between country and the number of people exiting the bank\n",
    "# Ha: There is a statistically significant relationship between country and the number of people exiting the bank\n",
    "\n",
    "num_stayed = data[data['Exited'] == 0].loc[:,col].value_counts().sort_index().values\n",
    "num_exited = data[data['Exited'] == 1].loc[:,col].value_counts().sort_index().values\n",
    "# note: sort_index is important because otherwise the countries are not in the same order!\n",
    "chi2_stat, p_value, n_dof, ex = chi2_test(num_stayed, num_exited, alpha, verbose=1)"
   ]
  },
  {
   "cell_type": "markdown",
   "metadata": {},
   "source": [
    "### 2.2.2 Impact of Gender on churn significant? Yes."
   ]
  },
  {
   "cell_type": "code",
   "execution_count": 111,
   "metadata": {},
   "outputs": [
    {
     "data": {
      "image/png": "[encoded data removed]",
      "text/plain": [
       "<Figure size 576x432 with 1 Axes>"
      ]
     },
     "metadata": {},
     "output_type": "display_data"
    },
    {
     "name": "stdout",
     "output_type": "stream",
     "text": [
      "chi2-stat: 112.91857\n",
      "p-value: 2.248210009713192e-26\n",
      "Degrees of freedom: 1.0\n",
      "Contingency table: [[ 925.4091 1111.5909]\n",
      " [3617.5909 4345.4091]]\n",
      "\n",
      "p-value of 2.248210009713192e-26 is below threshold of 0.05, null hypothesis is rejected.\n",
      "\n"
     ]
    }
   ],
   "source": [
    "alpha = 0.05\n",
    "\n",
    "# Gender\n",
    "col = 'Gender'\n",
    "\n",
    "# plot the churn for this column\n",
    "plot_categorical_AB_test(col)\n",
    "\n",
    "# Hypothesis test\n",
    "# H0: There is no statistically significant relationship between Gender and the number of people exiting the bank\n",
    "# Ha: There is a statistically significant relationship between Gender and the number of people exiting the bank\n",
    "\n",
    "num_stayed = data[data['Exited'] == 0].loc[:,col].value_counts().sort_index().values\n",
    "num_exited = data[data['Exited'] == 1].loc[:,col].value_counts().sort_index().values\n",
    "# note: sort_index is important because otherwise the countries are not in the same order!\n",
    "chi2_stat, p_value, n_dof, ex = chi2_test(num_stayed, num_exited, alpha, verbose=1)"
   ]
  },
  {
   "cell_type": "markdown",
   "metadata": {},
   "source": [
    "### 2.2.3 Impact of IsActive on churn significant? Yes."
   ]
  },
  {
   "cell_type": "code",
   "execution_count": 113,
   "metadata": {},
   "outputs": [
    {
     "data": {
      "image/png": "[encoded data removed]",
      "text/plain": [
       "<Figure size 576x432 with 1 Axes>"
      ]
     },
     "metadata": {},
     "output_type": "display_data"
    },
    {
     "name": "stdout",
     "output_type": "stream",
     "text": [
      "chi2-stat: 242.98534\n",
      "p-value: 8.785858269303832e-55\n",
      "Degrees of freedom: 1.0\n",
      "Contingency table: [[ 987.7413 1049.2587]\n",
      " [3861.2587 4101.7413]]\n",
      "\n",
      "p-value of 8.785858269303832e-55 is below threshold of 0.05, null hypothesis is rejected.\n",
      "\n"
     ]
    }
   ],
   "source": [
    "alpha = 0.05\n",
    "\n",
    "# IsActiveMember\n",
    "col = 'IsActiveMember'\n",
    "\n",
    "# plot the churn for this column\n",
    "plot_categorical_AB_test(col)\n",
    "\n",
    "# Hypothesis test\n",
    "# H0: There is no statistically significant relationship between being an active member and the number of people exiting the bank\n",
    "# Ha: There is a statistically significant relationship between being an active member and the number of people exiting the bank\n",
    "\n",
    "num_stayed = data[data['Exited'] == 0].loc[:,col].value_counts().sort_index().values\n",
    "num_exited = data[data['Exited'] == 1].loc[:,col].value_counts().sort_index().values\n",
    "# note: sort_index is important because otherwise the countries are not in the same order!\n",
    "chi2_stat, p_value, n_dof, ex = chi2_test(num_stayed, num_exited, alpha, verbose=1)"
   ]
  },
  {
   "cell_type": "markdown",
   "metadata": {},
   "source": [
    "### 2.2.4 Impact of NumOfProducts on churn significant? Yes."
   ]
  },
  {
   "cell_type": "code",
   "execution_count": 141,
   "metadata": {},
   "outputs": [
    {
     "data": {
      "image/png": "[encoded data removed]",
      "text/plain": [
       "<Figure size 576x432 with 1 Axes>"
      ]
     },
     "metadata": {},
     "output_type": "display_data"
    },
    {
     "name": "stdout",
     "output_type": "stream",
     "text": [
      "chi2-stat: 1503.62936\n",
      "p-value: 0.0\n",
      "Degrees of freedom: 3.0\n",
      "Contingency table: [[1035.6108  934.983    54.1842   12.222 ]\n",
      " [4048.3892 3655.017   211.8158   47.778 ]]\n",
      "\n",
      "p-value of 0.0 is below threshold of 0.05, null hypothesis is rejected.\n",
      "\n"
     ]
    }
   ],
   "source": [
    "alpha = 0.05\n",
    "\n",
    "# NumOfProducts\n",
    "col = 'NumOfProducts'\n",
    "\n",
    "# plot the churn for this column\n",
    "plot_categorical_AB_test(col)\n",
    "\n",
    "# Hypothesis test\n",
    "# H0: There is no statistically significant relationship between number of products and the number of people exiting the bank\n",
    "# Ha: There is a statistically significant relationship between number of products and the number of people exiting the bank\n",
    "\n",
    "s_stayed = data[data['Exited'] == 0].loc[:,col].value_counts()\n",
    "s_stayed.name = 'stayed'\n",
    "num_stayed = pd.DataFrame(s_stayed)\n",
    "\n",
    "s_exited = data[data['Exited'] == 1].loc[:,col].value_counts()\n",
    "s_exited.name = 'exited'\n",
    "num_exited = pd.DataFrame(s_exited)\n",
    "\n",
    "# this is necessary to prevent index values being not present in the other category!\n",
    "data_observations = pd.merge(num_exited, num_stayed, left_index=True, right_index=True, how='outer')\n",
    "data_observations= data_observations.fillna(0)\n",
    "# data_observations = data_observations.loc[3:4,:]\n",
    "\n",
    "num_stayed = data_observations['stayed'].values\n",
    "num_exited = data_observations['exited'].values\n",
    "\n",
    "# note: sort_index is important because otherwise the countries are not in the same order!\n",
    "chi2_stat, p_value, n_dof, ex = chi2_test(num_stayed, num_exited, alpha, verbose=1)"
   ]
  },
  {
   "cell_type": "markdown",
   "metadata": {},
   "source": [
    "### 2.2.5 Impact of Age on churn significant? Yes.\n",
    "\n",
    "In this column there needs to be some binning made prior to the analysis.\n"
   ]
  },
  {
   "cell_type": "code",
   "execution_count": 205,
   "metadata": {},
   "outputs": [
    {
     "data": {
      "image/png": "[encoded data removed]",
      "text/plain": [
       "<Figure size 1080x432 with 1 Axes>"
      ]
     },
     "metadata": {},
     "output_type": "display_data"
    }
   ],
   "source": [
    "col = 'Age'\n",
    "\n",
    "bin_values, bin_edges = np.histogram(data[col], np.arange(10,100,5))\n",
    "\n",
    "data_bin = pd.DataFrame()\n",
    "\n",
    "# get the age ranges, number of exited and number of stayed customers\n",
    "stayed = []\n",
    "bins = []\n",
    "exited = []\n",
    "for ii in range(len(bin_edges)-1):\n",
    "    bins.append(f'{bin_edges[ii]}-{bin_edges[ii+1]}')\n",
    "    stayed.append(data[(data['Exited'] == 0) & (data['Age'] >= bin_edges[ii]) & (data['Age'] < bin_edges[ii+1])].shape[0])\n",
    "    exited.append(data[(data['Exited'] == 1) & (data['Age'] >= bin_edges[ii]) & (data['Age'] < bin_edges[ii+1])].shape[0])\n",
    "data_bin['age_range'] = bins\n",
    "\n",
    "\n",
    "data_bin['total_customers'] = bin_values\n",
    "data_bin['stayed_total'] = stayed\n",
    "data_bin['exited_total'] = exited\n",
    "\n",
    "\n",
    "\n",
    "# QA\n",
    "assert data_bin[['stayed_total', 'exited_total']].sum(axis=1).values.all() == data_bin['total_customers'].values.all()\n",
    "\n",
    "data_bin['exited'] = data_bin['exited_total'] / data_bin['total_customers'] \n",
    "data_bin['stayed'] = data_bin['stayed_total'] / data_bin['total_customers'] \n",
    "\n",
    "\n",
    "fig, ax = plt.subplots(figsize=(15,6))\n",
    "\n",
    "data_bin[['age_range','exited', 'stayed']].plot(kind='bar', x='age_range', stacked=True, ax=ax, color=['darkorange', 'darkblue'])\n",
    "plt.plot([-1000, 1000], [0.2, 0.2], '--', color='black')\n",
    "_ = plt.ylabel(\"Fraction of total number\")\n",
    "\n",
    "plt.show()"
   ]
  },
  {
   "cell_type": "markdown",
   "metadata": {},
   "source": [
    "From this plot one can infer now that testing any of these ranges for statistical significance. However, if already for example age range 50-55 compared to 30-35 is significant in terms of impact on the churn, it is already correct to state that age has a significant impact. The individual age ranges are independent from another, i.e. the churn decision from one group (or individual customer that is) to leave the bank is not linked to that of another customer. This assumption could also be tested in one of the earlier steps of defining the problem statement. It is very relevant not only to find out why, but when the customers leave the bank in their lifetime cycle."
   ]
  },
  {
   "cell_type": "code",
   "execution_count": 210,
   "metadata": {},
   "outputs": [
    {
     "name": "stdout",
     "output_type": "stream",
     "text": [
      "chi2-stat: 1516.45197\n",
      "p-value: 0.0\n",
      "Degrees of freedom: 15.0\n",
      "Contingency table: [[9.9813000e+00 8.3109600e+01 2.4118080e+02 4.1514060e+02 4.7013960e+02\n",
      "  3.4079010e+02 1.9249650e+02 1.0449810e+02 7.2517200e+01 4.9702800e+01\n",
      "  2.6684700e+01 1.9758900e+01 7.9443000e+00 2.2407000e+00 4.0740000e-01\n",
      "  4.0740000e-01]\n",
      " [3.9018700e+01 3.2489040e+02 9.4281920e+02 1.6228594e+03 1.8378604e+03\n",
      "  1.3322099e+03 7.5250350e+02 4.0850190e+02 2.8348280e+02 1.9429720e+02\n",
      "  1.0431530e+02 7.7241100e+01 3.1055700e+01 8.7593000e+00 1.5926000e+00\n",
      "  1.5926000e+00]]\n",
      "\n",
      "p-value of 0.0 is below threshold of 0.05, null hypothesis is rejected.\n",
      "\n"
     ]
    }
   ],
   "source": [
    "# forget the 0 category!\n",
    "num_stayed = data_bin['stayed_total'].values[1:]\n",
    "num_exited = data_bin['exited_total'].values[1:]\n",
    "\n",
    "# note: sort_index is important because otherwise the countries are not in the same order!\n",
    "chi2_stat, p_value, n_dof, ex = chi2_test(num_stayed, num_exited, alpha, verbose=1)"
   ]
  },
  {
   "cell_type": "markdown",
   "metadata": {},
   "source": [
    "Age is also a significant indicator of churn. However, individual two age groups might not. "
   ]
  },
  {
   "cell_type": "code",
   "execution_count": 222,
   "metadata": {},
   "outputs": [
    {
     "name": "stdout",
     "output_type": "stream",
     "text": [
      "6     40-45\n",
      "11    65-70\n",
      "Name: age_range, dtype: object\n",
      "chi2-stat: 0.23995\n",
      "p-value: 0.6242407520033255\n",
      "Degrees of freedom: 1.0\n",
      "Contingency table: [[ 393.21064302   30.78935698]\n",
      " [1279.78935698  100.21064302]]\n",
      "\n",
      "p-value of 0.62 is above or equal to threshold of 0.05, null hypothesis is not rejected.\n",
      "\n"
     ]
    }
   ],
   "source": [
    "# test two age categories\n",
    "cat_1 = 6 # 3\n",
    "cat_2 = 11 # 8\n",
    " \n",
    "print(data_bin.loc[[cat_1,cat_2],'age_range'])\n",
    "data_bin_t = data_bin.loc[[cat_1, cat_2],:]\n",
    "\n",
    "num_stayed = data_bin_t['stayed_total'].values\n",
    "num_exited = data_bin_t['exited_total'].values\n",
    "\n",
    "# note: sort_index is important because otherwise the countries are not in the same order!\n",
    "chi2_stat, p_value, n_dof, ex = chi2_test(num_stayed, num_exited, alpha, verbose=1)"
   ]
  },
  {
   "cell_type": "code",
   "execution_count": 223,
   "metadata": {},
   "outputs": [
    {
     "name": "stdout",
     "output_type": "stream",
     "text": [
      "3    25-30\n",
      "8    50-55\n",
      "Name: age_range, dtype: object\n",
      "chi2-stat: 512.30030\n",
      "p-value: 2.003264256387383e-113\n",
      "Degrees of freedom: 1.0\n",
      "Contingency table: [[262.33588686 113.66411314]\n",
      " [921.66411314 399.33588686]]\n",
      "\n",
      "p-value of 2.003264256387383e-113 is below threshold of 0.05, null hypothesis is rejected.\n",
      "\n"
     ]
    }
   ],
   "source": [
    "# test two age categories\n",
    "cat_1 = 3 \n",
    "cat_2 = 8 \n",
    " \n",
    "print(data_bin.loc[[cat_1,cat_2],'age_range'])\n",
    "data_bin_t = data_bin.loc[[cat_1, cat_2],:]\n",
    "\n",
    "num_stayed = data_bin_t['stayed_total'].values\n",
    "num_exited = data_bin_t['exited_total'].values\n",
    "\n",
    "# note: sort_index is important because otherwise the countries are not in the same order!\n",
    "chi2_stat, p_value, n_dof, ex = chi2_test(num_stayed, num_exited, alpha, verbose=1)"
   ]
  },
  {
   "cell_type": "markdown",
   "metadata": {},
   "source": [
    "### 2.2.6 Impact of HasCrCard on churn significant? No."
   ]
  },
  {
   "cell_type": "code",
   "execution_count": 151,
   "metadata": {},
   "outputs": [
    {
     "data": {
      "image/png": "[encoded data removed]",
      "text/plain": [
       "<Figure size 576x432 with 1 Axes>"
      ]
     },
     "metadata": {},
     "output_type": "display_data"
    },
    {
     "name": "stdout",
     "output_type": "stream",
     "text": [
      "chi2-stat: 0.47134\n",
      "p-value: 0.49237236141554686\n",
      "Degrees of freedom: 1.0\n",
      "Contingency table: [[ 599.8965 1437.1035]\n",
      " [2345.1035 5617.8965]]\n",
      "\n",
      "p-value of 0.49 is above or equal to threshold of 0.05, null hypothesis is not rejected.\n",
      "\n"
     ]
    }
   ],
   "source": [
    "alpha = 0.05\n",
    "\n",
    "# HasCrCard\n",
    "col = 'HasCrCard'\n",
    "\n",
    "# plot the churn for this column\n",
    "plot_categorical_AB_test(col)\n",
    "\n",
    "# Hypothesis test\n",
    "# H0: There is no statistically significant relationship between having a credit card and the number of people exiting the bank\n",
    "# Ha: There is a statistically significant relationship between having a credit card and the number of people exiting the bank\n",
    "\n",
    "num_stayed = data[data['Exited'] == 0].loc[:,col].value_counts().sort_index().values\n",
    "num_exited = data[data['Exited'] == 1].loc[:,col].value_counts().sort_index().values\n",
    "# note: sort_index is important because otherwise the countries are not in the same order!\n",
    "chi2_stat, p_value, n_dof, ex = chi2_test(num_stayed, num_exited, alpha, verbose=1)"
   ]
  },
  {
   "cell_type": "markdown",
   "metadata": {},
   "source": [
    "To conclude this part of the analysis, the columns `Geography`, `Gender`, `IsActive`, `NumOfProducts`, and `Age` have significant impact on the churn. The other columns will not be deleted from the dataset in the future analysis, but their impact can be reassessed at a later stage."
   ]
  },
  {
   "cell_type": "markdown",
   "metadata": {},
   "source": [
    "## 2.3 Feature engineering\n",
    "\n",
    "In this stage, the categorical values will be one hot encoded. "
   ]
  },
  {
   "cell_type": "code",
   "execution_count": 238,
   "metadata": {},
   "outputs": [
    {
     "data": {
      "text/html": [
       "<div>\n",
       "<style scoped>\n",
       "    .dataframe tbody tr th:only-of-type {\n",
       "        vertical-align: middle;\n",
       "    }\n",
       "\n",
       "    .dataframe tbody tr th {\n",
       "        vertical-align: top;\n",
       "    }\n",
       "\n",
       "    .dataframe thead th {\n",
       "        text-align: right;\n",
       "    }\n",
       "</style>\n",
       "<table border=\"1\" class=\"dataframe\">\n",
       "  <thead>\n",
       "    <tr style=\"text-align: right;\">\n",
       "      <th></th>\n",
       "      <th>RowNumber</th>\n",
       "      <th>CustomerId</th>\n",
       "      <th>Surname</th>\n",
       "      <th>CreditScore</th>\n",
       "      <th>Age</th>\n",
       "      <th>Tenure</th>\n",
       "      <th>Balance</th>\n",
       "      <th>NumOfProducts</th>\n",
       "      <th>HasCrCard</th>\n",
       "      <th>IsActiveMember</th>\n",
       "      <th>EstimatedSalary</th>\n",
       "      <th>Exited</th>\n",
       "      <th>Gender_Female</th>\n",
       "      <th>Gender_Male</th>\n",
       "      <th>Geography_France</th>\n",
       "      <th>Geography_Germany</th>\n",
       "      <th>Geography_Spain</th>\n",
       "    </tr>\n",
       "  </thead>\n",
       "  <tbody>\n",
       "    <tr>\n",
       "      <td>0</td>\n",
       "      <td>1</td>\n",
       "      <td>15634602</td>\n",
       "      <td>Hargrave</td>\n",
       "      <td>619</td>\n",
       "      <td>42</td>\n",
       "      <td>2</td>\n",
       "      <td>0.00</td>\n",
       "      <td>1</td>\n",
       "      <td>1</td>\n",
       "      <td>1</td>\n",
       "      <td>101348.88</td>\n",
       "      <td>1</td>\n",
       "      <td>1</td>\n",
       "      <td>0</td>\n",
       "      <td>1</td>\n",
       "      <td>0</td>\n",
       "      <td>0</td>\n",
       "    </tr>\n",
       "    <tr>\n",
       "      <td>1</td>\n",
       "      <td>2</td>\n",
       "      <td>15647311</td>\n",
       "      <td>Hill</td>\n",
       "      <td>608</td>\n",
       "      <td>41</td>\n",
       "      <td>1</td>\n",
       "      <td>83807.86</td>\n",
       "      <td>1</td>\n",
       "      <td>0</td>\n",
       "      <td>1</td>\n",
       "      <td>112542.58</td>\n",
       "      <td>0</td>\n",
       "      <td>1</td>\n",
       "      <td>0</td>\n",
       "      <td>0</td>\n",
       "      <td>0</td>\n",
       "      <td>1</td>\n",
       "    </tr>\n",
       "    <tr>\n",
       "      <td>2</td>\n",
       "      <td>3</td>\n",
       "      <td>15619304</td>\n",
       "      <td>Onio</td>\n",
       "      <td>502</td>\n",
       "      <td>42</td>\n",
       "      <td>8</td>\n",
       "      <td>159660.80</td>\n",
       "      <td>3</td>\n",
       "      <td>1</td>\n",
       "      <td>0</td>\n",
       "      <td>113931.57</td>\n",
       "      <td>1</td>\n",
       "      <td>1</td>\n",
       "      <td>0</td>\n",
       "      <td>1</td>\n",
       "      <td>0</td>\n",
       "      <td>0</td>\n",
       "    </tr>\n",
       "    <tr>\n",
       "      <td>3</td>\n",
       "      <td>4</td>\n",
       "      <td>15701354</td>\n",
       "      <td>Boni</td>\n",
       "      <td>699</td>\n",
       "      <td>39</td>\n",
       "      <td>1</td>\n",
       "      <td>0.00</td>\n",
       "      <td>2</td>\n",
       "      <td>0</td>\n",
       "      <td>0</td>\n",
       "      <td>93826.63</td>\n",
       "      <td>0</td>\n",
       "      <td>1</td>\n",
       "      <td>0</td>\n",
       "      <td>1</td>\n",
       "      <td>0</td>\n",
       "      <td>0</td>\n",
       "    </tr>\n",
       "    <tr>\n",
       "      <td>4</td>\n",
       "      <td>5</td>\n",
       "      <td>15737888</td>\n",
       "      <td>Mitchell</td>\n",
       "      <td>850</td>\n",
       "      <td>43</td>\n",
       "      <td>2</td>\n",
       "      <td>125510.82</td>\n",
       "      <td>1</td>\n",
       "      <td>1</td>\n",
       "      <td>1</td>\n",
       "      <td>79084.10</td>\n",
       "      <td>0</td>\n",
       "      <td>1</td>\n",
       "      <td>0</td>\n",
       "      <td>0</td>\n",
       "      <td>0</td>\n",
       "      <td>1</td>\n",
       "    </tr>\n",
       "    <tr>\n",
       "      <td>...</td>\n",
       "      <td>...</td>\n",
       "      <td>...</td>\n",
       "      <td>...</td>\n",
       "      <td>...</td>\n",
       "      <td>...</td>\n",
       "      <td>...</td>\n",
       "      <td>...</td>\n",
       "      <td>...</td>\n",
       "      <td>...</td>\n",
       "      <td>...</td>\n",
       "      <td>...</td>\n",
       "      <td>...</td>\n",
       "      <td>...</td>\n",
       "      <td>...</td>\n",
       "      <td>...</td>\n",
       "      <td>...</td>\n",
       "      <td>...</td>\n",
       "    </tr>\n",
       "    <tr>\n",
       "      <td>9995</td>\n",
       "      <td>9996</td>\n",
       "      <td>15606229</td>\n",
       "      <td>Obijiaku</td>\n",
       "      <td>771</td>\n",
       "      <td>39</td>\n",
       "      <td>5</td>\n",
       "      <td>0.00</td>\n",
       "      <td>2</td>\n",
       "      <td>1</td>\n",
       "      <td>0</td>\n",
       "      <td>96270.64</td>\n",
       "      <td>0</td>\n",
       "      <td>0</td>\n",
       "      <td>1</td>\n",
       "      <td>1</td>\n",
       "      <td>0</td>\n",
       "      <td>0</td>\n",
       "    </tr>\n",
       "    <tr>\n",
       "      <td>9996</td>\n",
       "      <td>9997</td>\n",
       "      <td>15569892</td>\n",
       "      <td>Johnstone</td>\n",
       "      <td>516</td>\n",
       "      <td>35</td>\n",
       "      <td>10</td>\n",
       "      <td>57369.61</td>\n",
       "      <td>1</td>\n",
       "      <td>1</td>\n",
       "      <td>1</td>\n",
       "      <td>101699.77</td>\n",
       "      <td>0</td>\n",
       "      <td>0</td>\n",
       "      <td>1</td>\n",
       "      <td>1</td>\n",
       "      <td>0</td>\n",
       "      <td>0</td>\n",
       "    </tr>\n",
       "    <tr>\n",
       "      <td>9997</td>\n",
       "      <td>9998</td>\n",
       "      <td>15584532</td>\n",
       "      <td>Liu</td>\n",
       "      <td>709</td>\n",
       "      <td>36</td>\n",
       "      <td>7</td>\n",
       "      <td>0.00</td>\n",
       "      <td>1</td>\n",
       "      <td>0</td>\n",
       "      <td>1</td>\n",
       "      <td>42085.58</td>\n",
       "      <td>1</td>\n",
       "      <td>1</td>\n",
       "      <td>0</td>\n",
       "      <td>1</td>\n",
       "      <td>0</td>\n",
       "      <td>0</td>\n",
       "    </tr>\n",
       "    <tr>\n",
       "      <td>9998</td>\n",
       "      <td>9999</td>\n",
       "      <td>15682355</td>\n",
       "      <td>Sabbatini</td>\n",
       "      <td>772</td>\n",
       "      <td>42</td>\n",
       "      <td>3</td>\n",
       "      <td>75075.31</td>\n",
       "      <td>2</td>\n",
       "      <td>1</td>\n",
       "      <td>0</td>\n",
       "      <td>92888.52</td>\n",
       "      <td>1</td>\n",
       "      <td>0</td>\n",
       "      <td>1</td>\n",
       "      <td>0</td>\n",
       "      <td>1</td>\n",
       "      <td>0</td>\n",
       "    </tr>\n",
       "    <tr>\n",
       "      <td>9999</td>\n",
       "      <td>10000</td>\n",
       "      <td>15628319</td>\n",
       "      <td>Walker</td>\n",
       "      <td>792</td>\n",
       "      <td>28</td>\n",
       "      <td>4</td>\n",
       "      <td>130142.79</td>\n",
       "      <td>1</td>\n",
       "      <td>1</td>\n",
       "      <td>0</td>\n",
       "      <td>38190.78</td>\n",
       "      <td>0</td>\n",
       "      <td>1</td>\n",
       "      <td>0</td>\n",
       "      <td>1</td>\n",
       "      <td>0</td>\n",
       "      <td>0</td>\n",
       "    </tr>\n",
       "  </tbody>\n",
       "</table>\n",
       "<p>10000 rows × 17 columns</p>\n",
       "</div>"
      ],
      "text/plain": [
       "      RowNumber  CustomerId    Surname  CreditScore  Age  Tenure    Balance  \\\n",
       "0             1    15634602   Hargrave          619   42       2       0.00   \n",
       "1             2    15647311       Hill          608   41       1   83807.86   \n",
       "2             3    15619304       Onio          502   42       8  159660.80   \n",
       "3             4    15701354       Boni          699   39       1       0.00   \n",
       "4             5    15737888   Mitchell          850   43       2  125510.82   \n",
       "...         ...         ...        ...          ...  ...     ...        ...   \n",
       "9995       9996    15606229   Obijiaku          771   39       5       0.00   \n",
       "9996       9997    15569892  Johnstone          516   35      10   57369.61   \n",
       "9997       9998    15584532        Liu          709   36       7       0.00   \n",
       "9998       9999    15682355  Sabbatini          772   42       3   75075.31   \n",
       "9999      10000    15628319     Walker          792   28       4  130142.79   \n",
       "\n",
       "      NumOfProducts  HasCrCard  IsActiveMember  EstimatedSalary  Exited  \\\n",
       "0                 1          1               1        101348.88       1   \n",
       "1                 1          0               1        112542.58       0   \n",
       "2                 3          1               0        113931.57       1   \n",
       "3                 2          0               0         93826.63       0   \n",
       "4                 1          1               1         79084.10       0   \n",
       "...             ...        ...             ...              ...     ...   \n",
       "9995              2          1               0         96270.64       0   \n",
       "9996              1          1               1        101699.77       0   \n",
       "9997              1          0               1         42085.58       1   \n",
       "9998              2          1               0         92888.52       1   \n",
       "9999              1          1               0         38190.78       0   \n",
       "\n",
       "      Gender_Female  Gender_Male  Geography_France  Geography_Germany  \\\n",
       "0                 1            0                 1                  0   \n",
       "1                 1            0                 0                  0   \n",
       "2                 1            0                 1                  0   \n",
       "3                 1            0                 1                  0   \n",
       "4                 1            0                 0                  0   \n",
       "...             ...          ...               ...                ...   \n",
       "9995              0            1                 1                  0   \n",
       "9996              0            1                 1                  0   \n",
       "9997              1            0                 1                  0   \n",
       "9998              0            1                 0                  1   \n",
       "9999              1            0                 1                  0   \n",
       "\n",
       "      Geography_Spain  \n",
       "0                   0  \n",
       "1                   1  \n",
       "2                   0  \n",
       "3                   0  \n",
       "4                   1  \n",
       "...               ...  \n",
       "9995                0  \n",
       "9996                0  \n",
       "9997                0  \n",
       "9998                0  \n",
       "9999                0  \n",
       "\n",
       "[10000 rows x 17 columns]"
      ]
     },
     "execution_count": 238,
     "metadata": {},
     "output_type": "execute_result"
    }
   ],
   "source": [
    "data_dummied = ETL().get_dummies(data, 'Gender')\n",
    "data_dummied = ETL().get_dummies(data_dummied, 'Geography')\n",
    "\n",
    "ETL().save_data_prepared(data_dummied, filename='2020-01-26.One_hot_encoded.csv')\n",
    "data_dummied"
   ]
  },
  {
   "cell_type": "markdown",
   "metadata": {},
   "source": [
    "## 2.4 Quality Assurance\n",
    "\n",
    "This is a very important stage, because before continuing, it must be ensured that there are no errors introduced into the dataset in any of the previous steps."
   ]
  },
  {
   "cell_type": "code",
   "execution_count": 256,
   "metadata": {},
   "outputs": [],
   "source": [
    "def QA_dummied_features(data, data_dummied, col):\n",
    "    \"\"\"\n",
    "    QA check on the column col between the original dataframe data and the one hot encoded data_dummied. \n",
    "    Raises an exception (assert) when the total number of counts are not the same.\n",
    "    \"\"\"\n",
    "    print(f\"Column: {col}\")\n",
    "    labels = data[col].value_counts().index\n",
    "    data[col].value_counts()\n",
    "\n",
    "    for label in labels:\n",
    "        dummied_count = data_dummied[f\"{col}_{label}\"].sum()\n",
    "        original_count = data[col].value_counts().loc[label]\n",
    "        print(f\"For label {label} the original count is {original_count} and the dummied count {dummied_count}\")    \n",
    "        assert original_count == dummied_count\n",
    "\n",
    "    print(\" \")\n",
    "    return None\n"
   ]
  },
  {
   "cell_type": "code",
   "execution_count": 257,
   "metadata": {},
   "outputs": [
    {
     "name": "stdout",
     "output_type": "stream",
     "text": [
      "Column: Gender\n",
      "For label Male the original count is 5457 and the dummied count 5457\n",
      "For label Female the original count is 4543 and the dummied count 4543\n",
      " \n",
      "Column: Geography\n",
      "For label France the original count is 5014 and the dummied count 5014\n",
      "For label Germany the original count is 2509 and the dummied count 2509\n",
      "For label Spain the original count is 2477 and the dummied count 2477\n",
      " \n"
     ]
    }
   ],
   "source": [
    "col = 'Gender'\n",
    "QA_dummied_features(data, data_dummied, col)\n",
    "col = 'Geography'\n",
    "QA_dummied_features(data, data_dummied, col)"
   ]
  },
  {
   "cell_type": "markdown",
   "metadata": {},
   "source": [
    "Another neat check of the dataset is to use a one column that has random entries. In this case, the CustomerId is such a column. If there is an inherent bias in the dataset, this could be found out by picking one number in that CustomerId and plot its occurence."
   ]
  },
  {
   "cell_type": "code",
   "execution_count": 293,
   "metadata": {},
   "outputs": [
    {
     "data": {
      "image/png": "[encoded data removed]",
      "text/plain": [
       "<Figure size 576x432 with 1 Axes>"
      ]
     },
     "metadata": {},
     "output_type": "display_data"
    },
    {
     "data": {
      "image/png": "[encoded data removed]",
      "text/plain": [
       "<Figure size 576x432 with 1 Axes>"
      ]
     },
     "metadata": {},
     "output_type": "display_data"
    }
   ],
   "source": [
    "# last value of the ID\n",
    "IDs = data['CustomerId'].values\n",
    "IDs = np.asarray([val % 10 for val in IDs])\n",
    "\n",
    "# counts\n",
    "counts = np.bincount(IDs)\n",
    "values = np.arange(0, counts.shape[0])\n",
    "\n",
    "fig, ax = plt.subplots(figsize=(8,6))\n",
    "\n",
    "sns.barplot(x=values, y=counts, color='darkblue')\n",
    "_ = plt.ylabel(\"Absolute frequency\")\n",
    "_ = plt.xlabel(\"Last digit of CustomerId\")\n",
    "plt.show()\n",
    "\n",
    "fig, ax = plt.subplots(figsize=(8,6))\n",
    "\n",
    "sns.barplot(x=values, y=100*counts/np.max(counts), color='darkblue')\n",
    "_ = plt.ylabel(\"Relative frequency [%]\")\n",
    "_ = plt.xlabel(\"Last digit of CustomerId\")\n",
    "plt.ylim(85,102)\n",
    "plt.show()"
   ]
  },
  {
   "cell_type": "markdown",
   "metadata": {},
   "source": [
    "The last digit of the CustomerIds are uniformly distributed along the 10000 customers, indicating that there is no obvious bias in the dataset. This is not a proof, but if some trend was found in this investigation, a closer look would have to be paid to the dataset."
   ]
  },
  {
   "cell_type": "markdown",
   "metadata": {},
   "source": [
    "# Summary\n",
    "\n",
    "In this ETL the dataset was loaded and some statistical analysis using the Chi-squared test were performed. Prior findings when the dataset was explored with Tableau were verified:\n",
    "\n",
    "1. The 10000 customers are registered in three European countires: France (50%), Germany (25%), and Spain (25%). The geography is a significant indicator for customer churn.\n",
    "2. There are about equal proportions (50-50) of male and females with the bank. Gender is an indicator for customer churn.\n",
    "3. Half of the customers are active and those that are not active leave the bank at a significant higher rate than the active members.\n",
    "4. A customer can have between one and four products of the bank. Customers with only one product exited the bank significantly more than those with more, but the records for customers with three or four products is scarce in the dataset.\n",
    "5. Most of the customers of the bank are in their 30s, yet churn is highest for customers between the age 45 and 65. It is a significant feature on churn.\n",
    "\n",
    "Additionally, in this part of the project\n",
    "\n",
    "\n",
    "- `Geography` and `Gender` were one hot encoded, \n",
    "- Quality Assurance ensured data integrity, and\n",
    "- checking the distribution of the last digit of the `CustomerId` gave no indication of a selection bias in the dataset"
   ]
  },
  {
   "cell_type": "code",
   "execution_count": null,
   "metadata": {},
   "outputs": [],
   "source": []
  }
 ],
 "metadata": {
  "kernelspec": {
   "display_name": "Python 3",
   "language": "python",
   "name": "python3"
  },
  "language_info": {
   "codemirror_mode": {
    "name": "ipython",
    "version": 3
   },
   "file_extension": ".py",
   "mimetype": "text/x-python",
   "name": "python",
   "nbconvert_exporter": "python",
   "pygments_lexer": "ipython3",
   "version": "3.7.4"
  }
 },
 "nbformat": 4,
 "nbformat_minor": 4
}
